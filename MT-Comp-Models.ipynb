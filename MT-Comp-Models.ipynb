{
 "cells": [
  {
   "cell_type": "code",
   "execution_count": 2,
   "metadata": {},
   "outputs": [],
   "source": [
    "import numpy as np\n",
    "import path as Path\n",
    "%matplotlib inline\n",
    "import matplotlib.pyplot as plt\n",
    "import matplotlib as mpl\n",
    "import matplotlib.axes as ax\n",
    "from matplotlib.pyplot import figure\n",
    "from IPython.display import Image\n",
    "from astropy.io import fits\n",
    "from astropy.table import Table\n",
    "from astropy.cosmology import FlatwCDM\n",
    "from astropy.cosmology import FlatLambdaCDM\n",
    "from astropy.cosmology import LambdaCDM\n",
    "from astropy.cosmology import wCDM\n",
    "from astropy.cosmology import Flatw0waCDM\n",
    "import scipy\n",
    "import pdb\n",
    "from escape_functions_noastropy import *\n",
    "from scipy.interpolate import interp1d\n",
    "from scipy.stats import linregress"
   ]
  },
  {
   "cell_type": "code",
   "execution_count": 3,
   "metadata": {},
   "outputs": [],
   "source": [
    "cosmo = FlatwCDM(H0=70, Om0=0.2,w0=-1)\n",
    "cosmo = wCDM(H0=70, Om0=0.2,Ode0 = 0.8,w0=-1)\n",
    "cosmo = FlatLambdaCDM(H0=70,Om0=0.2)\n",
    "cosmo = LambdaCDM(H0=70, Om0=0.2, Ode0 = 0)\n",
    "cosmo = Flatw0waCDM(H0=70, Om0=0.2, w0=-0.9, wa=0.2)"
   ]
  },
  {
   "cell_type": "code",
   "execution_count": 4,
   "metadata": {},
   "outputs": [],
   "source": [
    "def cosmology(cosmology):\n",
    "    case = cosmology.name\n",
    "    if case == 'Flatw0waCDM':\n",
    "        return [cosmology.Om0, cosmology.w0, cosmology.wa, cosmology.h]\n",
    "    \n",
    "    elif case == 'FlatwCDM':\n",
    "        return [cosmology.Om0, cosmology.w0, cosmology.h]\n",
    "\n",
    "    elif case == 'wCDM':\n",
    "        return [cosmology.Om0, cosmology.Ode0, cosmology.w0,cosmology.h]\n",
    "        \n",
    "    elif case == 'LambdaCDM':\n",
    "        return [cosmology.Om0, cosmology.Ode0, cosmology.h]\n",
    "\n",
    "    elif case == 'FlatLambdaCDM':\n",
    "        return [cosmology.Om0, cosmology.h]"
   ]
  },
  {
   "cell_type": "markdown",
   "metadata": {},
   "source": [
    "### Files"
   ]
  },
  {
   "cell_type": "code",
   "execution_count": 5,
   "metadata": {},
   "outputs": [],
   "source": [
    "front_part = '/nfs/Christoq1/pvans/MiraTitan/halo/sort/M000/halopart/'\n",
    "front_halo = '/nfs/Christoq1/pvans/MiraTitan/FOF/M000_good/'\n",
    "front_results = '/nfs/Christoq1/MiraTitanU_analysis/density_fits/results_pvans_M0/'"
   ]
  },
  {
   "cell_type": "code",
   "execution_count": 6,
   "metadata": {},
   "outputs": [],
   "source": [
    "rad_file_0 = fits.open(front_results + 'phi_ein/r_vescmax.fits')\n",
    "rad_0 = rad_file_0[0].data\n",
    "m_edge_file_0 = fits.open(front_results + 'phi_ein/v_at_vescmax5.fits')\n",
    "m_edge_0 = m_edge_file_0[0].data\n",
    "dens_fit = fits.open(front_results + 'dens_ein/dens_fit.fits')\n",
    "dt = [('HaloId',int), ('n',float), ('n_err',float),('rho_0',float),('rho_o_err',float),\n",
    "          ('h',float),('h_err',float),('norm_ein',float)]\n",
    "einasto_prof_0 =  np.loadtxt(front_results + 'dens_ein/ds_ein_concentrations.dat', dtype=dt,skiprows=0) "
   ]
  },
  {
   "cell_type": "code",
   "execution_count": 7,
   "metadata": {},
   "outputs": [],
   "source": [
    "rad_file_0_gam = fits.open(front_results + 'phi_gam/r_vescmax.fits')\n",
    "rad_0_gam = rad_file_0_gam[0].data\n",
    "m_edge_file_0_gam = fits.open(front_results + 'phi_gam/v_at_vescmax5.fits')\n",
    "m_edge_0_gam = m_edge_file_0_gam[0].data\n",
    "dens_fit_gam = fits.open(front_results + 'dens_gam/dens_fit.fits')\n",
    "dt2 = [('HaloId', int),('gamma',float),('gamma_err',float),('mass0',float),('mass0_err',float),('r_s',float),('rs_err',float)]\n",
    "dehnen_prof_0 =  np.loadtxt(front_results + 'dens_gam/ds_gam_concentrations.dat', dtype=dt2,skiprows=0) "
   ]
  },
  {
   "cell_type": "code",
   "execution_count": 8,
   "metadata": {},
   "outputs": [],
   "source": [
    "dt = [('HaloId', np.float64),('m200crit',np.float64),('px',float),('py',float),('pz',float),('vx',float),('vy',float),('vz',float)]\n",
    "filename_0 =  front_halo + 'z00_good.txt'\n",
    "cluster_list_0 =  np.loadtxt(filename_0, dtype=dt,skiprows=0)\n",
    "filename_z02 =  front_halo + 'z02_good.txt'\n",
    "cluster_list_z02 =  np.loadtxt(filename_z02, dtype=dt,skiprows=0)\n",
    "filename_z04 =  front_halo + 'z04_good.txt'\n",
    "cluster_list_z04 =  np.loadtxt(filename_z04, dtype=dt,skiprows=0)\n",
    "filename_z06 =  front_halo + 'z06_good.txt'\n",
    "cluster_list_z06 =  np.loadtxt(filename_z06, dtype=dt,skiprows=0)"
   ]
  },
  {
   "cell_type": "markdown",
   "metadata": {},
   "source": [
    "### M000"
   ]
  },
  {
   "cell_type": "code",
   "execution_count": 9,
   "metadata": {},
   "outputs": [],
   "source": [
    "cosmo_name = 'FlatLambdaCDM'\n",
    "cosmo = FlatLambdaCDM(H0=71,Om0=0.26479, name = cosmo_name)\n",
    "cosmo_params = cosmology(cosmo)"
   ]
  },
  {
   "cell_type": "code",
   "execution_count": 10,
   "metadata": {},
   "outputs": [
    {
     "name": "stdout",
     "output_type": "stream",
     "text": [
      "Astropys critical density:  139917328634.8423 solMass / Mpc3\n",
      "Internal critical density:  139917328634.8423 solMass / Mpc3\n"
     ]
    }
   ],
   "source": [
    "z=0.0001\n",
    "h_0 = 0.71\n",
    "#mass = np.hstack((cluster_list_0['m200crit'], cluster_list_0_e['m200crit']))\n",
    "mass = cluster_list_0['m200crit']\n",
    "hmass = mass/h_0\n",
    "#print (hmass)\n",
    "M200 = hmass*u.solMass\n",
    "rho_crit = cosmo.critical_density(z)\n",
    "rho_crit = rho_crit.to(u.solMass / u.Mpc**3)\n",
    "print ('Astropys critical density: ', rho_crit)\n",
    "print ('Internal critical density: ',rho_crit_z(z,cosmo_params,'FlatLambdaCDM'))\n",
    "R200crit =  (3*M200/(4*np.pi*200.* rho_crit))**(1./3.)\n",
    "radius_array = np.linspace(0.3,2.0,100).round(3) #specify radius array for profiles. used in v_esc(r) funcs below.\n",
    "theta_array = radius_array /cosmo.angular_diameter_distance(z)\n",
    "R200crit =  (3*M200/(4*np.pi*200.* rho_crit))**(1./3.)\n",
    "#print ('Spherical R200 for a given M200: ', R200crit)\n",
    "G_newton = astroc.G.to( u.Mpc *  u.km**2 / u.s**2 / u.solMass).value #Mpc km2/s^2 kg"
   ]
  },
  {
   "cell_type": "code",
   "execution_count": 11,
   "metadata": {},
   "outputs": [],
   "source": [
    "z_0 = np.array((0.0001))\n",
    "z_0 = np.repeat(z_0,(251))\n",
    "num_clus = len(z_0)\n",
    "M200_orig = np.repeat(hmass,len(z_0))\n",
    "M200_use = np.repeat(hmass,(1))\n",
    "R200 =  ((3*M200)/(4*np.pi*200.* rho_crit))**(1./3.)\n",
    "N = np.repeat(1000000,len(z_0))\n",
    "\n",
    "rho_0_list = einasto_prof_0['rho_0']\n",
    "h_list = einasto_prof_0['h']\n",
    "n_list = einasto_prof_0['n']\n",
    "rho_0 = np.repeat(rho_0_list, (1))\n",
    "h = np.repeat(h_list, (1))\n",
    "n = np.repeat(n_list, (1))\n",
    "\n",
    "gamma_list = dehnen_prof_0['gamma']\n",
    "mass0_list = dehnen_prof_0['mass0']\n",
    "r_s_list = dehnen_prof_0['r_s']\n",
    "gamma = np.repeat(gamma_list, (1))\n",
    "mass_0 = np.repeat(mass0_list, (1))\n",
    "r_s = np.repeat(r_s_list, (1))\n",
    "\n",
    "radius_array = rad_0_gam #specify radius array for profiles. used in v_esc(r) funcs below.\n",
    "#print (len(rad_0_gam))\n",
    "radial_bins = 80\n",
    "xdata = np.zeros((len(z_0),radial_bins))\n",
    "for i in range(len(z_0)):\n",
    "    #print (radius_array[i,:])\n",
    "    xdata[i,:] = radius_array[i,:] /D_A(z_0[i], cosmo_params, cosmo.name).value\n",
    "    #print (xdata[i,:])\n",
    "r_M0_DEH,vesc_M0_DEH = v_esc_dehnen(xdata,z_0,mass_0,r_s,gamma,N, cosmo_params, cosmo_name, num_clus)\n",
    "r_M0_EIN,vesc_M0_EIN = v_esc_einasto(xdata,z_0,rho_0,h,n,N, cosmo_params, cosmo_name, num_clus)\n",
    "r_M0_NFW,vesc_M0_NFW = v_esc_NFW_M200(xdata,z_0,M200_use,N, cosmo_params, cosmo_name, num_clus)"
   ]
  },
  {
   "cell_type": "code",
   "execution_count": 12,
   "metadata": {},
   "outputs": [
    {
     "name": "stderr",
     "output_type": "stream",
     "text": [
      "<ipython-input-12-581c09eb5d66>:7: RuntimeWarning: divide by zero encountered in true_divide\n",
      "  pd_0 = (vesc_M0_EIN[j,:]-m_edge_0[j,:])/m_edge_0[j,:]\n",
      "/u/home/pvans/anaconda3/lib/python3.8/site-packages/numpy/lib/function_base.py:3942: RuntimeWarning: invalid value encountered in multiply\n",
      "  x2 = take(ap, indices_above, axis=axis) * weights_above\n"
     ]
    }
   ],
   "source": [
    "perc_diff_M0 = []\n",
    "median_perc_diff_M0 = []\n",
    "median_high_M0 = []\n",
    "median_low_M0 = []\n",
    "\n",
    "for j in range(len(z_0)):\n",
    "    pd_0 = (vesc_M0_EIN[j,:]-m_edge_0[j,:])/m_edge_0[j,:]\n",
    "    perc_diff_M0.append(pd_0)\n",
    "    \n",
    "perc_diff_arr_M0 = np.array(perc_diff_M0)\n",
    "\n",
    "for m in range(80):\n",
    "    median = np.percentile(perc_diff_arr_M0[:,m],50)\n",
    "    median_perc_diff_M0.append(median)\n",
    "    median_high = np.percentile(perc_diff_arr_M0[:,m],83.5)\n",
    "    median_high_M0.append(median_high)\n",
    "    median_low = np.percentile(perc_diff_arr_M0[:,m],16.5)\n",
    "    median_low_M0.append(median_low)"
   ]
  },
  {
   "cell_type": "markdown",
   "metadata": {},
   "source": [
    "### M001"
   ]
  },
  {
   "cell_type": "code",
   "execution_count": 13,
   "metadata": {},
   "outputs": [],
   "source": [
    "front_part_M1 = '/nfs/Christoq1/pvans/MiraTitan/halo/sort/M001/halopart/'\n",
    "front_halo_M1 = '/nfs/Christoq1/pvans/MiraTitan/FOF/M001_good/'\n",
    "front_results_M1 = '/nfs/Christoq1/MiraTitanU_analysis/density_fits/results_pvans_M1/'\n",
    "front_part_z02 = '/nfs/Christoq1/pvans/MiraTitan/halo/sort/M1z02/halopart/'\n",
    "front_part_z04 = '/nfs/Christoq1/pvans/MiraTitan/halo/sort/M1z04/halopart/'\n",
    "front_part_z06 = '/nfs/Christoq1/pvans/MiraTitan/halo/sort/M1z06/halopart/'\n",
    "front_halo = '/nfs/Christoq1/pvans/MiraTitan/FOF/M001_good/'\n",
    "front_ein_z02 = '/nfs/Christoq1/MiraTitanU_analysis/density_fits/results_pvans_M1/z02/'\n",
    "front_ein_z04 = '/nfs/Christoq1/MiraTitanU_analysis/density_fits/results_pvans_M1/z04/'\n",
    "front_ein_z06 = '/nfs/Christoq1/MiraTitanU_analysis/density_fits/results_pvans_M1/z06/'"
   ]
  },
  {
   "cell_type": "code",
   "execution_count": 14,
   "metadata": {},
   "outputs": [],
   "source": [
    "#M001 Cosmology\n",
    "cosmo_name = 'Flatw0waCDM'\n",
    "cosmo = Flatw0waCDM(H0=61.67, Om0=0.38705, w0=-0.7, wa=0.6722, name = cosmo_name)\n",
    "cosmo_params = cosmology(cosmo)"
   ]
  },
  {
   "cell_type": "code",
   "execution_count": 15,
   "metadata": {},
   "outputs": [
    {
     "name": "stdout",
     "output_type": "stream",
     "text": [
      "Astropys critical density:  105570502928.1437 solMass / Mpc3\n",
      "Internal critical density:  105570502928.14365 solMass / Mpc3\n"
     ]
    }
   ],
   "source": [
    "z=0.0001\n",
    "h_0 = 0.6167\n",
    "#mass = np.hstack((cluster_list_0['m200crit'], cluster_list_0_e['m200crit']))\n",
    "mass = cluster_list_0['m200crit']\n",
    "hmass = mass/h_0\n",
    "#print (hmass)\n",
    "M200 = hmass*u.solMass\n",
    "rho_crit = cosmo.critical_density(z)\n",
    "rho_crit = rho_crit.to(u.solMass / u.Mpc**3)\n",
    "print ('Astropys critical density: ', rho_crit)\n",
    "print ('Internal critical density: ',rho_crit_z(z,cosmo_params,'Flatw0waCDM'))\n",
    "R200crit =  (3*M200/(4*np.pi*200.* rho_crit))**(1./3.)\n",
    "radius_array = np.linspace(0.3,2.0,100).round(3) #specify radius array for profiles. used in v_esc(r) funcs below.\n",
    "theta_array = radius_array /cosmo.angular_diameter_distance(z)\n",
    "R200crit =  (3*M200/(4*np.pi*200.* rho_crit))**(1./3.)\n",
    "#print ('Spherical R200 for a given M200: ', R200crit)\n",
    "G_newton = astroc.G.to( u.Mpc *  u.km**2 / u.s**2 / u.solMass).value #Mpc km2/s^2 kg"
   ]
  },
  {
   "cell_type": "code",
   "execution_count": 16,
   "metadata": {},
   "outputs": [],
   "source": [
    "z_0 = np.array((0.0001))\n",
    "z_0 = np.repeat(z_0,(251))\n",
    "num_clus = len(z_0)\n",
    "M200_orig = np.repeat(hmass,len(z_0))\n",
    "M200_use = np.repeat(hmass,(1))\n",
    "R200 =  ((3*M200)/(4*np.pi*200.* rho_crit))**(1./3.)\n",
    "N = np.repeat(1000000,len(z_0))\n",
    "\n",
    "rho_0_list = einasto_prof_0['rho_0']\n",
    "h_list = einasto_prof_0['h']\n",
    "n_list = einasto_prof_0['n']\n",
    "rho_0 = np.repeat(rho_0_list, (1))\n",
    "h = np.repeat(h_list, (1))\n",
    "n = np.repeat(n_list, (1))\n",
    "\n",
    "gamma_list = dehnen_prof_0['gamma']\n",
    "mass0_list = dehnen_prof_0['mass0']\n",
    "r_s_list = dehnen_prof_0['r_s']\n",
    "gamma = np.repeat(gamma_list, (1))\n",
    "mass_0 = np.repeat(mass0_list, (1))\n",
    "r_s = np.repeat(r_s_list, (1))\n",
    "\n",
    "radius_array = rad_0_gam #specify radius array for profiles. used in v_esc(r) funcs below.\n",
    "#print (len(rad_0_gam))\n",
    "radial_bins = 80\n",
    "xdata = np.zeros((len(z_0),radial_bins))\n",
    "for i in range(len(z_0)):\n",
    "    #print (radius_array[i,:])\n",
    "    xdata[i,:] = radius_array[i,:] /D_A(z_0[i], cosmo_params, cosmo.name).value\n",
    "    #print (xdata[i,:])\n",
    "r_M1_DEH,vesc_M1_DEH = v_esc_dehnen(xdata,z_0,mass_0,r_s,gamma,N, cosmo_params, cosmo_name, num_clus)\n",
    "r_M1_EIN,vesc_M1_EIN = v_esc_einasto(xdata,z_0,rho_0,h,n,N, cosmo_params, cosmo_name, num_clus)\n",
    "r_M1_NFW,vesc_M1_NFW = v_esc_NFW_M200(xdata,z_0,M200_use,N, cosmo_params, cosmo_name, num_clus)"
   ]
  },
  {
   "cell_type": "markdown",
   "metadata": {},
   "source": [
    "### M005"
   ]
  },
  {
   "cell_type": "code",
   "execution_count": 17,
   "metadata": {},
   "outputs": [],
   "source": [
    "#M005 Cosmology\n",
    "cosmo_name = 'Flatw0waCDM'\n",
    "cosmo = Flatw0waCDM(H0=85,Om0=0.19832, w0=-1.2330 , wa=0.0445, name = cosmo_name)\n",
    "cosmo_params = cosmology(cosmo)"
   ]
  },
  {
   "cell_type": "code",
   "execution_count": 18,
   "metadata": {},
   "outputs": [
    {
     "name": "stdout",
     "output_type": "stream",
     "text": [
      "Astropys critical density:  200520908951.1366 solMass / Mpc3\n",
      "Internal critical density:  200520908951.1366 solMass / Mpc3\n"
     ]
    }
   ],
   "source": [
    "z=0.0001\n",
    "h_0 = 0.85\n",
    "#mass = np.hstack((cluster_list_0['m200crit'], cluster_list_0_e['m200crit']))\n",
    "mass = cluster_list_0['m200crit']\n",
    "hmass = mass/h_0\n",
    "#print (hmass)\n",
    "M200 = hmass*u.solMass\n",
    "rho_crit = cosmo.critical_density(z)\n",
    "rho_crit = rho_crit.to(u.solMass / u.Mpc**3)\n",
    "print ('Astropys critical density: ', rho_crit)\n",
    "print ('Internal critical density: ',rho_crit_z(z,cosmo_params,'Flatw0waCDM'))\n",
    "R200crit =  (3*M200/(4*np.pi*200.* rho_crit))**(1./3.)\n",
    "radius_array = np.linspace(0.3,2.0,100).round(3) #specify radius array for profiles. used in v_esc(r) funcs below.\n",
    "theta_array = radius_array /cosmo.angular_diameter_distance(z)\n",
    "R200crit =  (3*M200/(4*np.pi*200.* rho_crit))**(1./3.)\n",
    "#print ('Spherical R200 for a given M200: ', R200crit)\n",
    "G_newton = astroc.G.to( u.Mpc *  u.km**2 / u.s**2 / u.solMass).value #Mpc km2/s^2 kg"
   ]
  },
  {
   "cell_type": "code",
   "execution_count": 19,
   "metadata": {
    "scrolled": true
   },
   "outputs": [
    {
     "name": "stderr",
     "output_type": "stream",
     "text": [
      "/nfs/Christoq1/pvans/MiraTitan/analysis_notebooks/escapevelocitycosmology/escape_functions_noastropy.py:77: RuntimeWarning: invalid value encountered in sqrt\n",
      "  v_esc = (-2.*phi_dehnen(r,mass_0[i],r_s[i],gamma[i])+2.*phi_dehnen(req,mass_0[i],r_s[i],gamma[i]) - q_z*(H_z**2.)*(r**2. - req**2.)  )**0.5\n",
      "/nfs/Christoq1/pvans/MiraTitan/analysis_notebooks/escapevelocitycosmology/escape_functions_noastropy.py:128: RuntimeWarning: invalid value encountered in sqrt\n",
      "  v_esc =  (-2.*phi_einasto(r,rho_0[i],h[i],n[i])+2.*phi_einasto(req,rho_0[i],h[i],n[i]) - q_z*(H_z**2.)*(r**2. - req**2.)  )**0.5\n",
      "/nfs/Christoq1/pvans/MiraTitan/analysis_notebooks/escapevelocitycosmology/escape_functions_noastropy.py:191: RuntimeWarning: invalid value encountered in sqrt\n",
      "  v_esc = (-2.*phi_nfw(r,rho_s,r_s) +2*phi_nfw(req,rho_s,r_s)-q_z*(H_z**2.)*(r**2 - req**2) )**0.5\n"
     ]
    }
   ],
   "source": [
    "z_0 = np.array((0.0001))\n",
    "z_0 = np.repeat(z_0,(251))\n",
    "num_clus = len(z_0)\n",
    "M200_orig = np.repeat(hmass,len(z_0))\n",
    "M200_use = np.repeat(hmass,(1))\n",
    "R200 =  ((3*M200)/(4*np.pi*200.* rho_crit))**(1./3.)\n",
    "N = np.repeat(1000000,len(z_0))\n",
    "\n",
    "rho_0_list = einasto_prof_0['rho_0']\n",
    "h_list = einasto_prof_0['h']\n",
    "n_list = einasto_prof_0['n']\n",
    "rho_0 = np.repeat(rho_0_list, (1))\n",
    "h = np.repeat(h_list, (1))\n",
    "n = np.repeat(n_list, (1))\n",
    "\n",
    "gamma_list = dehnen_prof_0['gamma']\n",
    "mass0_list = dehnen_prof_0['mass0']\n",
    "r_s_list = dehnen_prof_0['r_s']\n",
    "gamma = np.repeat(gamma_list, (1))\n",
    "mass_0 = np.repeat(mass0_list, (1))\n",
    "r_s = np.repeat(r_s_list, (1))\n",
    "\n",
    "radius_array = rad_0_gam #specify radius array for profiles. used in v_esc(r) funcs below.\n",
    "#print (len(rad_0_gam))\n",
    "radial_bins = 80\n",
    "xdata = np.zeros((len(z_0),radial_bins))\n",
    "for i in range(len(z_0)):\n",
    "    #print (radius_array[i,:])\n",
    "    xdata[i,:] = radius_array[i,:] /D_A(z_0[i], cosmo_params, cosmo.name).value\n",
    "    #print (xdata[i,:])\n",
    "r_M5_DEH,vesc_M5_DEH = v_esc_dehnen(xdata,z_0,mass_0,r_s,gamma,N, cosmo_params, cosmo_name, num_clus)\n",
    "r_M5_EIN,vesc_M5_EIN = v_esc_einasto(xdata,z_0,rho_0,h,n,N, cosmo_params, cosmo_name, num_clus)\n",
    "r_M5_NFW,vesc_M5_NFW = v_esc_NFW_M200(xdata,z_0,M200_use,N, cosmo_params, cosmo_name, num_clus)"
   ]
  },
  {
   "cell_type": "markdown",
   "metadata": {},
   "source": [
    "### M006"
   ]
  },
  {
   "cell_type": "code",
   "execution_count": 20,
   "metadata": {},
   "outputs": [],
   "source": [
    "#M006 cosmo\n",
    "cosmo_name = 'Flatw0waCDM'\n",
    "cosmo = Flatw0waCDM(H0=55,Om0=0.43537, w0=-0.7667 , wa=0.1944, name = cosmo_name)\n",
    "cosmo_params = cosmology(cosmo)"
   ]
  },
  {
   "cell_type": "code",
   "execution_count": 21,
   "metadata": {},
   "outputs": [
    {
     "name": "stdout",
     "output_type": "stream",
     "text": [
      "Astropys critical density:  83969114115.54305 solMass / Mpc3\n",
      "Internal critical density:  83969114115.54306 solMass / Mpc3\n"
     ]
    }
   ],
   "source": [
    "z=0.0001\n",
    "h_0 = 0.55\n",
    "#mass = np.hstack((cluster_list_0['m200crit'], cluster_list_0_e['m200crit']))\n",
    "mass = cluster_list_0['m200crit']\n",
    "hmass = mass/h_0\n",
    "#print (hmass)\n",
    "M200 = hmass*u.solMass\n",
    "rho_crit = cosmo.critical_density(z)\n",
    "rho_crit = rho_crit.to(u.solMass / u.Mpc**3)\n",
    "print ('Astropys critical density: ', rho_crit)\n",
    "print ('Internal critical density: ',rho_crit_z(z,cosmo_params,'Flatw0waCDM'))\n",
    "R200crit =  (3*M200/(4*np.pi*200.* rho_crit))**(1./3.)\n",
    "radius_array = np.linspace(0.3,2.0,100).round(3) #specify radius array for profiles. used in v_esc(r) funcs below.\n",
    "theta_array = radius_array /cosmo.angular_diameter_distance(z)\n",
    "R200crit =  (3*M200/(4*np.pi*200.* rho_crit))**(1./3.)\n",
    "#print ('Spherical R200 for a given M200: ', R200crit)\n",
    "G_newton = astroc.G.to( u.Mpc *  u.km**2 / u.s**2 / u.solMass).value #Mpc km2/s^2 kg"
   ]
  },
  {
   "cell_type": "code",
   "execution_count": 22,
   "metadata": {},
   "outputs": [],
   "source": [
    "z_0 = np.array((0.0001))\n",
    "z_0 = np.repeat(z_0,(251))\n",
    "num_clus = len(z_0)\n",
    "M200_orig = np.repeat(hmass,len(z_0))\n",
    "M200_use = np.repeat(hmass,(1))\n",
    "R200 =  ((3*M200)/(4*np.pi*200.* rho_crit))**(1./3.)\n",
    "N = np.repeat(1000000,len(z_0))\n",
    "\n",
    "rho_0_list = einasto_prof_0['rho_0']\n",
    "h_list = einasto_prof_0['h']\n",
    "n_list = einasto_prof_0['n']\n",
    "rho_0 = np.repeat(rho_0_list, (1))\n",
    "h = np.repeat(h_list, (1))\n",
    "n = np.repeat(n_list, (1))\n",
    "\n",
    "gamma_list = dehnen_prof_0['gamma']\n",
    "mass0_list = dehnen_prof_0['mass0']\n",
    "r_s_list = dehnen_prof_0['r_s']\n",
    "gamma = np.repeat(gamma_list, (1))\n",
    "mass_0 = np.repeat(mass0_list, (1))\n",
    "r_s = np.repeat(r_s_list, (1))\n",
    "\n",
    "radius_array = rad_0_gam #specify radius array for profiles. used in v_esc(r) funcs below.\n",
    "#print (len(rad_0_gam))\n",
    "radial_bins = 80\n",
    "xdata = np.zeros((len(z_0),radial_bins))\n",
    "for i in range(len(z_0)):\n",
    "    #print (radius_array[i,:])\n",
    "    xdata[i,:] = radius_array[i,:] /D_A(z_0[i], cosmo_params, cosmo.name).value\n",
    "    #print (xdata[i,:])\n",
    "r_M6_DEH,vesc_M6_DEH = v_esc_dehnen(xdata,z_0,mass_0,r_s,gamma,N, cosmo_params, cosmo_name, num_clus)\n",
    "r_M6_EIN,vesc_M6_EIN = v_esc_einasto(xdata,z_0,rho_0,h,n,N, cosmo_params, cosmo_name, num_clus)\n",
    "r_M6_NFW,vesc_M6_NFW = v_esc_NFW_M200(xdata,z_0,M200_use,N, cosmo_params, cosmo_name, num_clus)"
   ]
  },
  {
   "cell_type": "markdown",
   "metadata": {},
   "source": [
    "### M010"
   ]
  },
  {
   "cell_type": "code",
   "execution_count": 23,
   "metadata": {},
   "outputs": [],
   "source": [
    "cosmo_name = 'Flatw0waCDM'\n",
    "cosmo = Flatw0waCDM(H0=78.33, Om0=0.18553, w0=-1.3, wa=-0.5222, name = cosmo_name)\n",
    "cosmo_params = cosmology(cosmo)"
   ]
  },
  {
   "cell_type": "code",
   "execution_count": 24,
   "metadata": {},
   "outputs": [
    {
     "name": "stdout",
     "output_type": "stream",
     "text": [
      "Astropys critical density:  170282061602.8666 solMass / Mpc3\n",
      "Internal critical density:  170282061602.86655 solMass / Mpc3\n"
     ]
    }
   ],
   "source": [
    "z=0.0001\n",
    "h_0 = 0.7833\n",
    "#mass = np.hstack((cluster_list_0['m200crit'], cluster_list_0_e['m200crit']))\n",
    "mass = cluster_list_0['m200crit']\n",
    "hmass = mass/h_0\n",
    "#print (hmass)\n",
    "M200 = hmass*u.solMass\n",
    "rho_crit = cosmo.critical_density(z)\n",
    "rho_crit = rho_crit.to(u.solMass / u.Mpc**3)\n",
    "print ('Astropys critical density: ', rho_crit)\n",
    "print ('Internal critical density: ',rho_crit_z(z,cosmo_params,'Flatw0waCDM'))\n",
    "R200crit =  (3*M200/(4*np.pi*200.* rho_crit))**(1./3.)\n",
    "radius_array = np.linspace(0.3,2.0,100).round(3) #specify radius array for profiles. used in v_esc(r) funcs below.\n",
    "theta_array = radius_array /cosmo.angular_diameter_distance(z)\n",
    "R200crit =  (3*M200/(4*np.pi*200.* rho_crit))**(1./3.)\n",
    "#print ('Spherical R200 for a given M200: ', R200crit)\n",
    "G_newton = astroc.G.to( u.Mpc *  u.km**2 / u.s**2 / u.solMass).value #Mpc km2/s^2 kg"
   ]
  },
  {
   "cell_type": "code",
   "execution_count": 25,
   "metadata": {},
   "outputs": [],
   "source": [
    "z_0 = np.array((0.0001))\n",
    "z_0 = np.repeat(z_0,(251))\n",
    "num_clus = len(z_0)\n",
    "M200_orig = np.repeat(hmass,len(z_0))\n",
    "M200_use = np.repeat(hmass,(1))\n",
    "R200 =  ((3*M200)/(4*np.pi*200.* rho_crit))**(1./3.)\n",
    "N = np.repeat(1000000,len(z_0))\n",
    "\n",
    "rho_0_list = einasto_prof_0['rho_0']\n",
    "h_list = einasto_prof_0['h']\n",
    "n_list = einasto_prof_0['n']\n",
    "rho_0 = np.repeat(rho_0_list, (1))\n",
    "h = np.repeat(h_list, (1))\n",
    "n = np.repeat(n_list, (1))\n",
    "\n",
    "gamma_list = dehnen_prof_0['gamma']\n",
    "mass0_list = dehnen_prof_0['mass0']\n",
    "r_s_list = dehnen_prof_0['r_s']\n",
    "gamma = np.repeat(gamma_list, (1))\n",
    "mass_0 = np.repeat(mass0_list, (1))\n",
    "r_s = np.repeat(r_s_list, (1))\n",
    "\n",
    "radius_array = rad_0_gam #specify radius array for profiles. used in v_esc(r) funcs below.\n",
    "#print (len(rad_0_gam))\n",
    "radial_bins = 80\n",
    "xdata = np.zeros((len(z_0),radial_bins))\n",
    "for i in range(len(z_0)):\n",
    "    #print (radius_array[i,:])\n",
    "    xdata[i,:] = radius_array[i,:] /D_A(z_0[i], cosmo_params, cosmo.name).value\n",
    "    #print (xdata[i,:])\n",
    "r_M10_DEH,vesc_M10_DEH = v_esc_dehnen(xdata,z_0,mass_0,r_s,gamma,N, cosmo_params, cosmo_name, num_clus)\n",
    "r_M10_EIN,vesc_M10_EIN = v_esc_einasto(xdata,z_0,rho_0,h,n,N, cosmo_params, cosmo_name, num_clus)\n",
    "r_M10_NFW,vesc_M10_NFW = v_esc_NFW_M200(xdata,z_0,M200_use,N, cosmo_params, cosmo_name, num_clus)"
   ]
  },
  {
   "cell_type": "markdown",
   "metadata": {},
   "source": [
    "### Comparisons"
   ]
  },
  {
   "cell_type": "code",
   "execution_count": 26,
   "metadata": {},
   "outputs": [
    {
     "data": {
      "image/png": "[encoded data removed]",
      "text/plain": [
       "<Figure size 432x288 with 1 Axes>"
      ]
     },
     "metadata": {
      "needs_background": "light"
     },
     "output_type": "display_data"
    }
   ],
   "source": [
    "j=22\n",
    "plt.plot(rad_0[j,:], m_edge_0[j,:], color = 'b', label = 'measured')\n",
    "plt.plot(rad_0[j,:], vesc_M0_EIN[j,:], color = 'r', label = 'M000 cosmo')\n",
    "plt.plot(rad_0[j,:], vesc_M1_EIN[j,:], color = 'g', label = 'M001 cosmo')\n",
    "plt.plot(rad_0[j,:], vesc_M5_EIN[j,:], color = 'm', label = 'M005 cosmo')\n",
    "plt.plot(rad_0[j,:], vesc_M6_EIN[j,:], color = 'y', label = 'M006 cosmo')\n",
    "plt.plot(rad_0[j,:], vesc_M10_EIN[j,:], color = 'c', label = 'M010 cosmo')\n",
    "\n",
    "plt.title('M000 Data using all cosmologies')\n",
    "plt.xlim(0,4)\n",
    "plt.xlabel('Radius Mpc')\n",
    "plt.ylabel('Escape Velocity')\n",
    "plt.savefig('M000-cosmo-comp-einasto.png', dpi = 200)\n",
    "plt.legend()\n",
    "plt.show()"
   ]
  },
  {
   "cell_type": "code",
   "execution_count": 27,
   "metadata": {
    "scrolled": true
   },
   "outputs": [
    {
     "data": {
      "image/png": "[encoded data removed]",
      "text/plain": [
       "<Figure size 432x288 with 1 Axes>"
      ]
     },
     "metadata": {
      "needs_background": "light"
     },
     "output_type": "display_data"
    }
   ],
   "source": [
    "j=22\n",
    "plt.plot(rad_0[j,:], m_edge_0[j,:], color = 'b', label = 'measured')\n",
    "plt.plot(rad_0[j,:], vesc_M0_DEH[j,:], color = 'r', label = 'M000 cosmo')\n",
    "plt.plot(rad_0[j,:], vesc_M1_DEH[j,:], color = 'g', label = 'M001 cosmo')\n",
    "plt.plot(rad_0[j,:], vesc_M5_DEH[j,:], color = 'm', label = 'M005 cosmo')\n",
    "plt.plot(rad_0[j,:], vesc_M6_DEH[j,:], color = 'y', label = 'M006 cosmo')\n",
    "plt.plot(rad_0[j,:], vesc_M10_DEH[j,:], color = 'c', label = 'M010 cosmo')\n",
    "\n",
    "plt.title('M000 Data using all cosmologies')\n",
    "plt.xlim(0,4)\n",
    "plt.xlabel('Radius Mpc')\n",
    "plt.ylabel('Escape Velocity')\n",
    "plt.savefig('M000-cosmo-comp-dehnen.png', dpi = 200)\n",
    "plt.legend()\n",
    "plt.show()"
   ]
  },
  {
   "cell_type": "markdown",
   "metadata": {},
   "source": [
    "# Redshift Trends"
   ]
  },
  {
   "cell_type": "code",
   "execution_count": 28,
   "metadata": {},
   "outputs": [],
   "source": [
    "front_results = '/nfs/Christoq1/MiraTitanU_analysis/density_fits/'\n",
    "\n",
    "m_edge_file_0 = fits.open(front_results + 'results_pvans_M0/phi_ein/v_at_vescmax5.fits')\n",
    "M0z0_edge = m_edge_file_0[0].data\n",
    "m_edge_file_m0z2 = fits.open(front_results + 'results_pvans_M0/z02/phi_ein/v_at_vescmax5.fits')\n",
    "M0z02_edge = m_edge_file_m0z2[0].data\n",
    "m_edge_file_m0z4 = fits.open(front_results + 'results_pvans_M0/z04/phi_ein/v_at_vescmax5.fits')\n",
    "M0z04_edge = m_edge_file_m0z4[0].data\n",
    "m_edge_file_m0z4 = fits.open(front_results + 'results_pvans_M0/z04/phi_ein/v_at_vescmax5.fits')\n",
    "M0z04_edge = m_edge_file_m0z4[0].data\n",
    "m_edge_file_m0z6 = fits.open(front_results + 'results_pvans_M0/z06/phi_ein/v_at_vescmax5.fits')\n",
    "M0z06_edge = m_edge_file_m0z6[0].data\n",
    "\n",
    "m_edge_file_1 = fits.open(front_results + 'results_pvans_M1/phi_ein/v_at_vescmax5.fits')\n",
    "M1z0_edge = m_edge_file_1[0].data\n",
    "m_edge_file_m1z2 = fits.open(front_results + 'results_pvans_M1/z02/phi_ein/v_at_vescmax5.fits')\n",
    "M1z02_edge = m_edge_file_m1z2[0].data\n",
    "m_edge_file_m1z4 = fits.open(front_results + 'results_pvans_M1/z04/phi_ein/v_at_vescmax5.fits')\n",
    "M1z04_edge = m_edge_file_m1z4[0].data\n",
    "m_edge_file_m1z6 = fits.open(front_results + 'results_pvans_M1/z06/phi_ein/v_at_vescmax5.fits')\n",
    "M1z06_edge = m_edge_file_m1z6[0].data\n",
    "\n",
    "m_edge_file_5 = fits.open(front_results + 'results_pvans_M5/phi_ein/v_at_vescmax5.fits')\n",
    "M5z0_edge = m_edge_file_5[0].data\n",
    "m_edge_file_m5z2 = fits.open(front_results + 'results_pvans_M5/z02/phi_ein/v_at_vescmax5.fits')\n",
    "M5z02_edge = m_edge_file_m5z2[0].data\n",
    "m_edge_file_m5z4 = fits.open(front_results + 'results_pvans_M5/z04/phi_ein/v_at_vescmax5.fits')\n",
    "M5z04_edge = m_edge_file_m5z4[0].data\n",
    "m_edge_file_m5z6 = fits.open(front_results + 'results_pvans_M5/z06/phi_ein/v_at_vescmax5.fits')\n",
    "M5z06_edge = m_edge_file_m5z6[0].data\n",
    "\n",
    "m_edge_file_6 = fits.open(front_results + 'results_pvans_M6/phi_ein/v_at_vescmax5.fits')\n",
    "M6z0_edge = m_edge_file_6[0].data\n",
    "m_edge_file_m6z2 = fits.open(front_results + 'results_pvans_M6/z02/phi_ein/v_at_vescmax5.fits')\n",
    "M6z02_edge = m_edge_file_m6z2[0].data\n",
    "m_edge_file_m6z4 = fits.open(front_results + 'results_pvans_M6/z04/phi_ein/v_at_vescmax5.fits')\n",
    "M6z04_edge = m_edge_file_m6z4[0].data\n",
    "m_edge_file_m6z6 = fits.open(front_results + 'results_pvans_M6/z06/phi_ein/v_at_vescmax5.fits')\n",
    "M6z06_edge = m_edge_file_m6z6[0].data\n",
    "\n",
    "m_edge_file_10 = fits.open(front_results + 'results_pvans_M10/phi_ein/v_at_vescmax5.fits')\n",
    "M10z0_edge = m_edge_file_10[0].data\n",
    "m_edge_file_m10z2 = fits.open(front_results + 'results_pvans_M10/z02/phi_ein/v_at_vescmax5.fits')\n",
    "M10z02_edge = m_edge_file_m10z2[0].data\n",
    "m_edge_file_m10z4 = fits.open(front_results + 'results_pvans_M10/z04/phi_ein/v_at_vescmax5.fits')\n",
    "M10z04_edge = m_edge_file_m10z4[0].data\n",
    "m_edge_file_m10z6 = fits.open(front_results + 'results_pvans_M10/z06/phi_ein/v_at_vescmax5.fits')\n",
    "M10z06_edge = m_edge_file_m10z6[0].data"
   ]
  },
  {
   "cell_type": "code",
   "execution_count": 29,
   "metadata": {},
   "outputs": [
    {
     "name": "stdout",
     "output_type": "stream",
     "text": [
      "(221, 80)\n"
     ]
    }
   ],
   "source": [
    "print (np.shape(M10z0_edge))"
   ]
  },
  {
   "cell_type": "code",
   "execution_count": 30,
   "metadata": {},
   "outputs": [],
   "source": [
    "vesc_M0z0 = np.loadtxt('vesc_ein_M0z0.txt')\n",
    "vesc_M0z02 = np.loadtxt('vesc_ein_m0z02.txt')\n",
    "vesc_M0z04 = np.loadtxt('vesc_ein_M0z04.txt')\n",
    "vesc_M0z06 = np.loadtxt('vesc_ein_M0z06.txt')\n",
    "\n",
    "vesc_M1z0 = np.loadtxt('vesc_ein_M1z0.txt')\n",
    "vesc_M1z02 = np.loadtxt('vesc_ein_M1z02.txt')\n",
    "vesc_M1z04 = np.loadtxt('vesc_ein_M1z04.txt')\n",
    "vesc_M1z06 = np.loadtxt('vesc_ein_M1z06.txt')\n",
    "\n",
    "vesc_M5z0 = np.loadtxt('vesc_ein_M5z0.txt')\n",
    "vesc_M5z02 = np.loadtxt('vesc_ein_M5z02.txt')\n",
    "vesc_M5z04 = np.loadtxt('vesc_ein_M5z04.txt')\n",
    "vesc_M5z06 = np.loadtxt('vesc_ein_M5z06.txt')\n",
    "\n",
    "vesc_M6z0 = np.loadtxt('vesc_ein_M6z0.txt')\n",
    "vesc_M6z02 = np.loadtxt('vesc_ein_M6z02.txt')\n",
    "vesc_M6z04 = np.loadtxt('vesc_ein_M6z04.txt')\n",
    "vesc_M6z06 = np.loadtxt('vesc_ein_M6z06.txt')\n",
    "\n",
    "vesc_M10z0 = np.loadtxt('vesc_ein_M10z0.txt')\n",
    "vesc_M10z02 = np.loadtxt('vesc_ein_M10z02.txt')\n",
    "vesc_M10z04 = np.loadtxt('vesc_ein_M10z04.txt')\n",
    "vesc_M10z06 = np.loadtxt('vesc_ein_M10z06.txt')"
   ]
  },
  {
   "cell_type": "code",
   "execution_count": 31,
   "metadata": {},
   "outputs": [
    {
     "name": "stdout",
     "output_type": "stream",
     "text": [
      "221\n"
     ]
    }
   ],
   "source": [
    "print (len(vesc_M10z0))"
   ]
  },
  {
   "cell_type": "code",
   "execution_count": 32,
   "metadata": {},
   "outputs": [],
   "source": [
    "z_0 = np.array((0.000001))\n",
    "z_02 = np.array((0.212304))\n",
    "z_04 = np.array((0.401674))\n",
    "z_06 = np.array((0.618357))\n",
    "\n",
    "M0z_0 = np.repeat(z_0,(251))\n",
    "M1z_0 = np.repeat(z_0,(249))\n",
    "M5z_0 = np.repeat(z_0,(248))\n",
    "M6z_0 = np.repeat(z_0,(236))\n",
    "M10z_0 = np.repeat(z_0,(221))\n",
    "\n",
    "M0z_02 = np.repeat(z_02,(270))\n",
    "M1z_02 = np.repeat(z_02,(266))\n",
    "M5z_02 = np.repeat(z_02,(216))\n",
    "M6z_02 = np.repeat(z_02,(231))\n",
    "M10z_02 = np.repeat(z_02,(265))\n",
    "\n",
    "M0z_04 = np.repeat(z_04,(246))\n",
    "M1z_04 = np.repeat(z_04,(204))\n",
    "M5z_04 = np.repeat(z_04,(240))\n",
    "M6z_04 = np.repeat(z_04,(206))\n",
    "M10z_04 = np.repeat(z_04,(211))\n",
    "\n",
    "M0z_06 = np.repeat(z_06,(249))\n",
    "M1z_06 = np.repeat(z_06,(203))\n",
    "M5z_06 = np.repeat(z_06,(250))\n",
    "M6z_06 = np.repeat(z_06,(250))\n",
    "M10z_06 = np.repeat(z_06,(213))"
   ]
  },
  {
   "cell_type": "code",
   "execution_count": 33,
   "metadata": {},
   "outputs": [
    {
     "name": "stderr",
     "output_type": "stream",
     "text": [
      "<ipython-input-33-ed6c549eb5bd>:20: RuntimeWarning: divide by zero encountered in true_divide\n",
      "  pd_0 = (vesc_M0z0[i,:]-M0z0_edge[i,:])/M0z0_edge[i,:]\n",
      "<ipython-input-33-ed6c549eb5bd>:23: RuntimeWarning: divide by zero encountered in true_divide\n",
      "  pd_z02 = (vesc_M0z02[j,:]-M0z02_edge[j,:])/M0z02_edge[j,:]\n",
      "<ipython-input-33-ed6c549eb5bd>:26: RuntimeWarning: divide by zero encountered in true_divide\n",
      "  pd_z04 = (vesc_M0z04[k,:]-M0z04_edge[k,:])/M0z04_edge[k,:]\n",
      "<ipython-input-33-ed6c549eb5bd>:29: RuntimeWarning: divide by zero encountered in true_divide\n",
      "  pd_z06 = (vesc_M0z06[l,:]-M0z06_edge[l,:])/M0z06_edge[l,:]\n",
      "/u/home/pvans/anaconda3/lib/python3.8/site-packages/numpy/lib/function_base.py:3942: RuntimeWarning: invalid value encountered in multiply\n",
      "  x2 = take(ap, indices_above, axis=axis) * weights_above\n"
     ]
    }
   ],
   "source": [
    "#For M0\n",
    "perc_diff_M0 = []\n",
    "median_perc_diff_M0 = []\n",
    "median_high_M0 = []\n",
    "median_low_M0 = []\n",
    "perc_diff_z02 = []\n",
    "median_perc_diff_M0z02 = []\n",
    "med_z02_low = []\n",
    "med_z02_high = []\n",
    "perc_diff_z04 = []\n",
    "median_perc_diff_M0z04 = []\n",
    "med_z04_low = []\n",
    "med_z04_high = []\n",
    "perc_diff_z06 = []\n",
    "median_perc_diff_M0z06 = []\n",
    "med_z06_low = []\n",
    "med_z06_high = []\n",
    "\n",
    "for i in range(len(M0z_0)):\n",
    "    pd_0 = (vesc_M0z0[i,:]-M0z0_edge[i,:])/M0z0_edge[i,:]\n",
    "    perc_diff_M0.append(pd_0)\n",
    "for j in range(len(M0z_02)):\n",
    "    pd_z02 = (vesc_M0z02[j,:]-M0z02_edge[j,:])/M0z02_edge[j,:]\n",
    "    perc_diff_z02.append(pd_z02)\n",
    "for k in range(len(M0z_04)):\n",
    "    pd_z04 = (vesc_M0z04[k,:]-M0z04_edge[k,:])/M0z04_edge[k,:]\n",
    "    perc_diff_z04.append(pd_z04)\n",
    "for l in range(len(M0z_06)):\n",
    "    pd_z06 = (vesc_M0z06[l,:]-M0z06_edge[l,:])/M0z06_edge[l,:]\n",
    "    perc_diff_z06.append(pd_z06)\n",
    "    \n",
    "perc_diff_arr_M0 = np.array(perc_diff_M0)\n",
    "perc_diff_arr_M0z02 = np.array(perc_diff_z02)\n",
    "perc_diff_arr_M0z04 = np.array(perc_diff_z04)\n",
    "perc_diff_arr_M0z06 = np.array(perc_diff_z06)\n",
    "\n",
    "for m in range(80):\n",
    "    median = np.percentile(perc_diff_arr_M0[:,m],50)\n",
    "    median_perc_diff_M0.append(median)\n",
    "    median_high = np.percentile(perc_diff_arr_M0[:,m],83.5)\n",
    "    median_high_M0.append(median_high)\n",
    "    median_low = np.percentile(perc_diff_arr_M0[:,m],16.5)\n",
    "    median_low_M0.append(median_low)\n",
    "    median_2 = np.percentile(perc_diff_arr_M0z02[:,m],50)\n",
    "    median_perc_diff_M0z02.append(median_2)\n",
    "    med_2_high = np.percentile(perc_diff_arr_M0z02[:,m],83.5)\n",
    "    med_z02_high.append(med_2_high)\n",
    "    med_2_low = np.percentile(perc_diff_arr_M0z02[:,m],16.5)\n",
    "    med_z02_low.append(med_2_low)\n",
    "    median_4 = np.percentile(perc_diff_arr_M0z04[:,m],50)\n",
    "    median_perc_diff_M0z04.append(median_4)\n",
    "    med_4_high = np.percentile(perc_diff_arr_M0z04[:,m],83.5)\n",
    "    med_z04_high.append(med_4_high)\n",
    "    med_4_low = np.percentile(perc_diff_arr_M0z04[:,m],16.5)\n",
    "    med_z04_low.append(med_4_low)\n",
    "    median_6 = np.percentile(perc_diff_arr_M0z06[:,m],50)\n",
    "    median_perc_diff_M0z06.append(median_6)\n",
    "    med_6_high = np.percentile(perc_diff_arr_M0z06[:,m],83.5)\n",
    "    med_z06_high.append(med_6_high)\n",
    "    med_6_low = np.percentile(perc_diff_arr_M0z06[:,m],16.5)\n",
    "    med_z06_low.append(med_6_low)"
   ]
  },
  {
   "cell_type": "code",
   "execution_count": 34,
   "metadata": {},
   "outputs": [
    {
     "name": "stderr",
     "output_type": "stream",
     "text": [
      "<ipython-input-34-01ca2cde549a>:20: RuntimeWarning: divide by zero encountered in true_divide\n",
      "  pd_0 = (vesc_M1z0[i,:]-M1z0_edge[i,:])/M1z0_edge[i,:]\n",
      "<ipython-input-34-01ca2cde549a>:23: RuntimeWarning: divide by zero encountered in true_divide\n",
      "  pd_z02 = (vesc_M1z02[j,:]-M1z02_edge[j,:])/M1z02_edge[j,:]\n",
      "<ipython-input-34-01ca2cde549a>:26: RuntimeWarning: divide by zero encountered in true_divide\n",
      "  pd_z04 = (vesc_M1z04[k,:]-M1z04_edge[k,:])/M1z04_edge[k,:]\n",
      "<ipython-input-34-01ca2cde549a>:29: RuntimeWarning: divide by zero encountered in true_divide\n",
      "  pd_z06 = (vesc_M1z06[l,:]-M1z06_edge[l,:])/M1z06_edge[l,:]\n"
     ]
    }
   ],
   "source": [
    "#For M1\n",
    "perc_diff_M1 = []\n",
    "median_perc_diff_M1 = []\n",
    "median_high_M1 = []\n",
    "median_low_M1 = []\n",
    "perc_diff_M1z02 = []\n",
    "median_perc_diff_M1z02 = []\n",
    "med_M1z02_low = []\n",
    "med_M1z02_high = []\n",
    "perc_diff_M1z04 = []\n",
    "median_perc_diff_M1z04 = []\n",
    "med_M1z04_low = []\n",
    "med_M1z04_high = []\n",
    "perc_diff_M1z06 = []\n",
    "median_perc_diff_M1z06 = []\n",
    "med_M1z06_low = []\n",
    "med_M1z06_high = []\n",
    "\n",
    "for i in range(len(M1z_0)):\n",
    "    pd_0 = (vesc_M1z0[i,:]-M1z0_edge[i,:])/M1z0_edge[i,:]\n",
    "    perc_diff_M1.append(pd_0)\n",
    "for j in range(len(M1z_02)):\n",
    "    pd_z02 = (vesc_M1z02[j,:]-M1z02_edge[j,:])/M1z02_edge[j,:]\n",
    "    perc_diff_M1z02.append(pd_z02)\n",
    "for k in range(len(M1z_04)):\n",
    "    pd_z04 = (vesc_M1z04[k,:]-M1z04_edge[k,:])/M1z04_edge[k,:]\n",
    "    perc_diff_M1z04.append(pd_z04)\n",
    "for l in range(len(M1z_06)):\n",
    "    pd_z06 = (vesc_M1z06[l,:]-M1z06_edge[l,:])/M1z06_edge[l,:]\n",
    "    perc_diff_M1z06.append(pd_z06)\n",
    "    \n",
    "perc_diff_arr_M1 = np.array(perc_diff_M1)\n",
    "perc_diff_arr_M1z02 = np.array(perc_diff_M1z02)\n",
    "perc_diff_arr_M1z04 = np.array(perc_diff_M1z04)\n",
    "perc_diff_arr_M1z06 = np.array(perc_diff_M1z06)\n",
    "\n",
    "for m in range(80):\n",
    "    median = np.percentile(perc_diff_arr_M1[:,m],50)\n",
    "    median_perc_diff_M1.append(median)\n",
    "    median_high = np.percentile(perc_diff_arr_M1[:,m],83.5)\n",
    "    median_high_M1.append(median_high)\n",
    "    median_low = np.percentile(perc_diff_arr_M1[:,m],16.5)\n",
    "    median_low_M1.append(median_low)\n",
    "    median_2 = np.percentile(perc_diff_arr_M1z02[:,m],50)\n",
    "    median_perc_diff_M1z02.append(median_2)\n",
    "    med_2_high = np.percentile(perc_diff_arr_M1z02[:,m],83.5)\n",
    "    med_z02_high.append(med_2_high)\n",
    "    med_2_low = np.percentile(perc_diff_arr_M1z02[:,m],16.5)\n",
    "    med_z02_low.append(med_2_low)\n",
    "    median_4 = np.percentile(perc_diff_arr_M1z04[:,m],50)\n",
    "    median_perc_diff_M1z04.append(median_4)\n",
    "    med_4_high = np.percentile(perc_diff_arr_M1z04[:,m],83.5)\n",
    "    med_z04_high.append(med_4_high)\n",
    "    med_4_low = np.percentile(perc_diff_arr_M1z04[:,m],16.5)\n",
    "    med_z04_low.append(med_4_low)\n",
    "    median_6 = np.percentile(perc_diff_arr_M1z06[:,m],50)\n",
    "    median_perc_diff_M1z06.append(median_6)\n",
    "    med_6_high = np.percentile(perc_diff_arr_M1z06[:,m],83.5)\n",
    "    med_z06_high.append(med_6_high)\n",
    "    med_6_low = np.percentile(perc_diff_arr_M1z06[:,m],16.5)\n",
    "    med_z06_low.append(med_6_low)"
   ]
  },
  {
   "cell_type": "code",
   "execution_count": 35,
   "metadata": {},
   "outputs": [
    {
     "name": "stdout",
     "output_type": "stream",
     "text": [
      "[[ 0.05387532 -0.02951707 -0.05077785 ...         inf         inf\n",
      "          inf]\n",
      " [ 0.23474599  0.04144142 -0.01523595 ...         inf         inf\n",
      "          inf]\n",
      " [ 0.09556241 -0.04142005 -0.04739964 ...         inf         inf\n",
      "          inf]\n",
      " ...\n",
      " [ 0.14213778 -0.04945172 -0.07986166 ...         inf         inf\n",
      "          inf]\n",
      " [ 0.30856267  0.17809223  0.07616489 ...         inf         inf\n",
      "          inf]\n",
      " [ 0.33443155  0.22301412  0.07059856 ...         inf         inf\n",
      "          inf]]\n"
     ]
    }
   ],
   "source": [
    "print (perc_diff_arr_M1z02)"
   ]
  },
  {
   "cell_type": "code",
   "execution_count": 36,
   "metadata": {},
   "outputs": [
    {
     "name": "stderr",
     "output_type": "stream",
     "text": [
      "<ipython-input-36-eb03b7a53ff9>:20: RuntimeWarning: divide by zero encountered in true_divide\n",
      "  pd_0 = (vesc_M5z0[i,:]-M5z0_edge[i,:])/M5z0_edge[i,:]\n",
      "<ipython-input-36-eb03b7a53ff9>:23: RuntimeWarning: divide by zero encountered in true_divide\n",
      "  pd_z02 = (vesc_M5z02[j,:]-M5z02_edge[j,:])/M5z02_edge[j,:]\n",
      "<ipython-input-36-eb03b7a53ff9>:26: RuntimeWarning: divide by zero encountered in true_divide\n",
      "  pd_z04 = (vesc_M5z04[k,:]-M5z04_edge[k,:])/M5z04_edge[k,:]\n",
      "<ipython-input-36-eb03b7a53ff9>:29: RuntimeWarning: divide by zero encountered in true_divide\n",
      "  pd_z06 = (vesc_M5z06[l,:]-M5z06_edge[l,:])/M5z06_edge[l,:]\n"
     ]
    }
   ],
   "source": [
    "#For M5\n",
    "perc_diff_M5 = []\n",
    "median_perc_diff_M5 = []\n",
    "median_high_M5 = []\n",
    "median_low_M5 = []\n",
    "perc_diff_M5z02 = []\n",
    "median_perc_diff_M5z02 = []\n",
    "med_M5z02_low = []\n",
    "med_M5z02_high = []\n",
    "perc_diff_M5z04 = []\n",
    "median_perc_diff_M5z04 = []\n",
    "med_M5z04_low = []\n",
    "med_M5z04_high = []\n",
    "perc_diff_M5z06 = []\n",
    "median_perc_diff_M5z06 = []\n",
    "med_M5z06_low = []\n",
    "med_M5z06_high = []\n",
    "\n",
    "for i in range(len(M5z_0)):\n",
    "    pd_0 = (vesc_M5z0[i,:]-M5z0_edge[i,:])/M5z0_edge[i,:]\n",
    "    perc_diff_M5.append(pd_0)\n",
    "for j in range(len(M5z_02)):\n",
    "    pd_z02 = (vesc_M5z02[j,:]-M5z02_edge[j,:])/M5z02_edge[j,:]\n",
    "    perc_diff_M5z02.append(pd_z02)\n",
    "for k in range(len(M5z_04)):\n",
    "    pd_z04 = (vesc_M5z04[k,:]-M5z04_edge[k,:])/M5z04_edge[k,:]\n",
    "    perc_diff_M5z04.append(pd_z04)\n",
    "for l in range(len(M5z_06)):\n",
    "    pd_z06 = (vesc_M5z06[l,:]-M5z06_edge[l,:])/M5z06_edge[l,:]\n",
    "    perc_diff_M5z06.append(pd_z06)\n",
    "    \n",
    "perc_diff_arr_M5 = np.array(perc_diff_M5)\n",
    "perc_diff_arr_M5z02 = np.array(perc_diff_M5z02)\n",
    "perc_diff_arr_M5z04 = np.array(perc_diff_M5z04)\n",
    "perc_diff_arr_M5z06 = np.array(perc_diff_M5z06)\n",
    "\n",
    "for m in range(80):\n",
    "    median = np.percentile(perc_diff_arr_M5[:,m],50)\n",
    "    median_perc_diff_M5.append(median)\n",
    "    median_high = np.percentile(perc_diff_arr_M5[:,m],83.5)\n",
    "    median_high_M5.append(median_high)\n",
    "    median_low = np.percentile(perc_diff_arr_M5[:,m],16.5)\n",
    "    median_low_M5.append(median_low)\n",
    "    median_2 = np.percentile(perc_diff_arr_M5z02[:,m],50)\n",
    "    median_perc_diff_M5z02.append(median_2)\n",
    "    med_2_high = np.percentile(perc_diff_arr_M5z02[:,m],83.5)\n",
    "    med_z02_high.append(med_2_high)\n",
    "    med_2_low = np.percentile(perc_diff_arr_M5z02[:,m],16.5)\n",
    "    med_z02_low.append(med_2_low)\n",
    "    median_4 = np.percentile(perc_diff_arr_M5z04[:,m],50)\n",
    "    median_perc_diff_M5z04.append(median_4)\n",
    "    med_4_high = np.percentile(perc_diff_arr_M5z04[:,m],83.5)\n",
    "    med_z04_high.append(med_4_high)\n",
    "    med_4_low = np.percentile(perc_diff_arr_M5z04[:,m],16.5)\n",
    "    med_z04_low.append(med_4_low)\n",
    "    median_6 = np.percentile(perc_diff_arr_M5z06[:,m],50)\n",
    "    median_perc_diff_M5z06.append(median_6)\n",
    "    med_6_high = np.percentile(perc_diff_arr_M5z06[:,m],83.5)\n",
    "    med_z06_high.append(med_6_high)\n",
    "    med_6_low = np.percentile(perc_diff_arr_M5z06[:,m],16.5)\n",
    "    med_z06_low.append(med_6_low)"
   ]
  },
  {
   "cell_type": "code",
   "execution_count": 37,
   "metadata": {},
   "outputs": [
    {
     "name": "stderr",
     "output_type": "stream",
     "text": [
      "<ipython-input-37-707dec57f5be>:20: RuntimeWarning: divide by zero encountered in true_divide\n",
      "  pd_0 = (vesc_M6z0[i,:]-M6z0_edge[i,:])/M6z0_edge[i,:]\n",
      "<ipython-input-37-707dec57f5be>:23: RuntimeWarning: divide by zero encountered in true_divide\n",
      "  pd_z02 = (vesc_M6z02[j,:]-M6z02_edge[j,:])/M6z02_edge[j,:]\n",
      "<ipython-input-37-707dec57f5be>:26: RuntimeWarning: divide by zero encountered in true_divide\n",
      "  pd_z04 = (vesc_M6z04[k,:]-M6z04_edge[k,:])/M6z04_edge[k,:]\n",
      "<ipython-input-37-707dec57f5be>:29: RuntimeWarning: divide by zero encountered in true_divide\n",
      "  pd_z06 = (vesc_M6z06[l,:]-M6z06_edge[l,:])/M6z06_edge[l,:]\n"
     ]
    }
   ],
   "source": [
    "#For M6\n",
    "perc_diff_M6 = []\n",
    "median_perc_diff_M6 = []\n",
    "median_high_M6 = []\n",
    "median_low_M6 = []\n",
    "perc_diff_M6z02 = []\n",
    "median_perc_diff_M6z02 = []\n",
    "med_M6z02_low = []\n",
    "med_M6z02_high = []\n",
    "perc_diff_M6z04 = []\n",
    "median_perc_diff_M6z04 = []\n",
    "med_M6z04_low = []\n",
    "med_M6z04_high = []\n",
    "perc_diff_M6z06 = []\n",
    "median_perc_diff_M6z06 = []\n",
    "med_M6z06_low = []\n",
    "med_M6z06_high = []\n",
    "\n",
    "for i in range(len(M6z_0)):\n",
    "    pd_0 = (vesc_M6z0[i,:]-M6z0_edge[i,:])/M6z0_edge[i,:]\n",
    "    perc_diff_M6.append(pd_0)\n",
    "for j in range(len(M6z_02)):\n",
    "    pd_z02 = (vesc_M6z02[j,:]-M6z02_edge[j,:])/M6z02_edge[j,:]\n",
    "    perc_diff_M6z02.append(pd_z02)\n",
    "for k in range(len(M6z_04)):\n",
    "    pd_z04 = (vesc_M6z04[k,:]-M6z04_edge[k,:])/M6z04_edge[k,:]\n",
    "    perc_diff_M6z04.append(pd_z04)\n",
    "for l in range(len(M6z_06)):\n",
    "    pd_z06 = (vesc_M6z06[l,:]-M6z06_edge[l,:])/M6z06_edge[l,:]\n",
    "    perc_diff_M6z06.append(pd_z06)\n",
    "    \n",
    "perc_diff_arr_M6 = np.array(perc_diff_M6)\n",
    "perc_diff_arr_M6z02 = np.array(perc_diff_M6z02)\n",
    "perc_diff_arr_M6z04 = np.array(perc_diff_M6z04)\n",
    "perc_diff_arr_M6z06 = np.array(perc_diff_M6z06)\n",
    "\n",
    "for m in range(80):\n",
    "    median = np.percentile(perc_diff_arr_M6[:,m],50)\n",
    "    median_perc_diff_M6.append(median)\n",
    "    median_high = np.percentile(perc_diff_arr_M6[:,m],83.5)\n",
    "    median_high_M6.append(median_high)\n",
    "    median_low = np.percentile(perc_diff_arr_M6[:,m],16.5)\n",
    "    median_low_M6.append(median_low)\n",
    "    median_2 = np.percentile(perc_diff_arr_M6z02[:,m],50)\n",
    "    median_perc_diff_M6z02.append(median_2)\n",
    "    med_2_high = np.percentile(perc_diff_arr_M6z02[:,m],83.5)\n",
    "    med_M6z02_high.append(med_2_high)\n",
    "    med_2_low = np.percentile(perc_diff_arr_M6z02[:,m],16.5)\n",
    "    med_M6z02_low.append(med_2_low)\n",
    "    median_4 = np.percentile(perc_diff_arr_M6z04[:,m],50)\n",
    "    median_perc_diff_M6z04.append(median_4)\n",
    "    med_4_high = np.percentile(perc_diff_arr_M6z04[:,m],83.5)\n",
    "    med_M6z04_high.append(med_4_high)\n",
    "    med_4_low = np.percentile(perc_diff_arr_M6z04[:,m],16.5)\n",
    "    med_M6z04_low.append(med_4_low)\n",
    "    median_6 = np.percentile(perc_diff_arr_M6z06[:,m],50)\n",
    "    median_perc_diff_M6z06.append(median_6)\n",
    "    med_6_high = np.percentile(perc_diff_arr_M6z06[:,m],83.5)\n",
    "    med_M6z06_high.append(med_6_high)\n",
    "    med_6_low = np.percentile(perc_diff_arr_M6z06[:,m],16.5)\n",
    "    med_M6z06_low.append(med_6_low)"
   ]
  },
  {
   "cell_type": "code",
   "execution_count": 38,
   "metadata": {},
   "outputs": [
    {
     "name": "stderr",
     "output_type": "stream",
     "text": [
      "<ipython-input-38-5f68d239e653>:20: RuntimeWarning: divide by zero encountered in true_divide\n",
      "  pd_0 = (vesc_M10z0[i,:]-M10z0_edge[i,:])/M10z0_edge[i,:]\n",
      "<ipython-input-38-5f68d239e653>:23: RuntimeWarning: divide by zero encountered in true_divide\n",
      "  pd_z02 = (vesc_M10z02[j,:]-M10z02_edge[j,:])/M10z02_edge[j,:]\n",
      "<ipython-input-38-5f68d239e653>:26: RuntimeWarning: divide by zero encountered in true_divide\n",
      "  pd_z04 = (vesc_M10z04[k,:]-M10z04_edge[k,:])/M10z04_edge[k,:]\n",
      "<ipython-input-38-5f68d239e653>:29: RuntimeWarning: divide by zero encountered in true_divide\n",
      "  pd_z06 = (vesc_M10z06[l,:]-M10z06_edge[l,:])/M10z06_edge[l,:]\n"
     ]
    }
   ],
   "source": [
    "#For M10\n",
    "perc_diff_M10 = []\n",
    "median_perc_diff_M10 = []\n",
    "median_high_M10 = []\n",
    "median_low_M10 = []\n",
    "perc_diff_M10z02 = []\n",
    "median_perc_diff_M10z02 = []\n",
    "med_M10z02_low = []\n",
    "med_M10z02_high = []\n",
    "perc_diff_M10z04 = []\n",
    "median_perc_diff_M10z04 = []\n",
    "med_M10z04_low = []\n",
    "med_M10z04_high = []\n",
    "perc_diff_M10z06 = []\n",
    "median_perc_diff_M10z06 = []\n",
    "med_M10z06_low = []\n",
    "med_M10z06_high = []\n",
    "\n",
    "for i in range(len(M10z_0)):\n",
    "    pd_0 = (vesc_M10z0[i,:]-M10z0_edge[i,:])/M10z0_edge[i,:]\n",
    "    perc_diff_M10.append(pd_0)\n",
    "for j in range(len(M10z_02)):\n",
    "    pd_z02 = (vesc_M10z02[j,:]-M10z02_edge[j,:])/M10z02_edge[j,:]\n",
    "    perc_diff_M10z02.append(pd_z02)\n",
    "for k in range(len(M10z_04)):\n",
    "    pd_z04 = (vesc_M10z04[k,:]-M10z04_edge[k,:])/M10z04_edge[k,:]\n",
    "    perc_diff_M10z04.append(pd_z04)\n",
    "for l in range(len(M10z_06)):\n",
    "    pd_z06 = (vesc_M10z06[l,:]-M10z06_edge[l,:])/M10z06_edge[l,:]\n",
    "    perc_diff_M10z06.append(pd_z06)\n",
    "    \n",
    "perc_diff_arr_M10 = np.array(perc_diff_M10)\n",
    "perc_diff_arr_M10z02 = np.array(perc_diff_M10z02)\n",
    "perc_diff_arr_M10z04 = np.array(perc_diff_M10z04)\n",
    "perc_diff_arr_M10z06 = np.array(perc_diff_M10z06)\n",
    "\n",
    "for m in range(80):\n",
    "    median = np.percentile(perc_diff_arr_M10[:,m],50)\n",
    "    median_perc_diff_M10.append(median)\n",
    "    median_high = np.percentile(perc_diff_arr_M10[:,m],83.5)\n",
    "    median_high_M10.append(median_high)\n",
    "    median_low = np.percentile(perc_diff_arr_M10[:,m],16.5)\n",
    "    median_low_M10.append(median_low)\n",
    "    median_2 = np.percentile(perc_diff_arr_M10z02[:,m],50)\n",
    "    median_perc_diff_M10z02.append(median_2)\n",
    "    med_2_high = np.percentile(perc_diff_arr_M10z02[:,m],83.5)\n",
    "    med_M10z02_high.append(med_2_high)\n",
    "    med_2_low = np.percentile(perc_diff_arr_M10z02[:,m],16.5)\n",
    "    med_M10z02_low.append(med_2_low)\n",
    "    median_4 = np.percentile(perc_diff_arr_M10z04[:,m],50)\n",
    "    median_perc_diff_M10z04.append(median_2)\n",
    "    med_4_high = np.percentile(perc_diff_arr_M10z04[:,m],83.5)\n",
    "    med_M10z04_high.append(med_4_high)\n",
    "    med_4_low = np.percentile(perc_diff_arr_M10z04[:,m],16.5)\n",
    "    med_M10z04_low.append(med_4_low)\n",
    "    median_6 = np.percentile(perc_diff_arr_M10z06[:,m],50)\n",
    "    median_perc_diff_M10z06.append(median_6)\n",
    "    med_6_high = np.percentile(perc_diff_arr_M10z06[:,m],83.5)\n",
    "    med_M10z06_high.append(med_6_high)\n",
    "    med_6_low = np.percentile(perc_diff_arr_M10z06[:,m],16.5)\n",
    "    med_M10z06_low.append(med_6_low)"
   ]
  },
  {
   "cell_type": "code",
   "execution_count": 39,
   "metadata": {},
   "outputs": [
    {
     "name": "stderr",
     "output_type": "stream",
     "text": [
      "<ipython-input-39-fe05f3a26154>:3: RuntimeWarning: invalid value encountered in double_scalars\n",
      "  M5_z02_z0 = [a-b for a,b in zip(median_perc_diff_M5z02, median_perc_diff_M5)]\n"
     ]
    }
   ],
   "source": [
    "M0_z02_z0 = [a-b for a,b in zip(median_perc_diff_M0z02, median_perc_diff_M0)]\n",
    "M1_z02_z0 = [a-b for a,b in zip(median_perc_diff_M1z02, median_perc_diff_M1)]\n",
    "M5_z02_z0 = [a-b for a,b in zip(median_perc_diff_M5z02, median_perc_diff_M5)]\n",
    "M6_z02_z0 = [a-b for a,b in zip(median_perc_diff_M6z02, median_perc_diff_M6)]\n",
    "M10_z02_z0 = [a-b for a,b in zip(median_perc_diff_M10z02, median_perc_diff_M10)]"
   ]
  },
  {
   "cell_type": "code",
   "execution_count": 40,
   "metadata": {},
   "outputs": [
    {
     "name": "stdout",
     "output_type": "stream",
     "text": [
      "[0.03254553533837046, 0.03672844523286291, 0.05153791796089233, 0.045735260758981724, 0.04658184715366556, 0.03278869562170966, 0.04469316094031592, 0.04089599754688973, 0.027942781897066477, 0.029435278854769716, 0.039850806438092454, 0.03805073200680434, 0.04414930496685246, 0.04634734323809277, 0.05209222175118118, 0.056763621469199166, 0.05287309621909496, 0.058328798143493926, 0.06038882739844371, 0.06546848388943138, 0.05908045617761787, 0.06264597913724843, 0.06121886592076052, 0.06966836322373186, 0.07059450604604069, 0.08063173139434973, 0.07873658220106912, 0.07431720131597935, 0.08576259068820648, 0.09258625739292686, 0.09405111310024458, 0.09324223070929585, 0.07795693629811315, 0.08123607017150317, 0.12009623424886394, 0.10343738472379968, 0.13838162280802369, 0.1021641423876084, 0.08616066299941938, 0.112247477922992, nan, nan, nan, nan, nan, nan, nan, nan, nan, nan, nan, nan, nan, nan, nan, nan, nan, nan, nan, nan, nan, nan, nan, nan, nan, nan, nan, nan, nan, nan, nan, nan, nan, nan, nan, nan, nan, nan, nan, nan]\n"
     ]
    }
   ],
   "source": [
    "print (M1_z02_z0)"
   ]
  },
  {
   "cell_type": "code",
   "execution_count": 41,
   "metadata": {},
   "outputs": [
    {
     "name": "stderr",
     "output_type": "stream",
     "text": [
      "<ipython-input-41-eb31a5420aa8>:3: RuntimeWarning: invalid value encountered in double_scalars\n",
      "  M5_z04_z0 = [a-b for a,b in zip(median_perc_diff_M5z04, median_perc_diff_M5)]\n",
      "<ipython-input-41-eb31a5420aa8>:4: RuntimeWarning: invalid value encountered in double_scalars\n",
      "  M6_z04_z0 = [a-b for a,b in zip(median_perc_diff_M6z04, median_perc_diff_M6)]\n"
     ]
    }
   ],
   "source": [
    "M0_z04_z0 = [a-b for a,b in zip(median_perc_diff_M0z04, median_perc_diff_M0)]\n",
    "M1_z04_z0 = [a-b for a,b in zip(median_perc_diff_M1z04, median_perc_diff_M1)]\n",
    "M5_z04_z0 = [a-b for a,b in zip(median_perc_diff_M5z04, median_perc_diff_M5)]\n",
    "M6_z04_z0 = [a-b for a,b in zip(median_perc_diff_M6z04, median_perc_diff_M6)]\n",
    "M10_z04_z0 = [a-b for a,b in zip(median_perc_diff_M10z04, median_perc_diff_M10)]"
   ]
  },
  {
   "cell_type": "code",
   "execution_count": 42,
   "metadata": {
    "scrolled": true
   },
   "outputs": [
    {
     "name": "stderr",
     "output_type": "stream",
     "text": [
      "<ipython-input-42-62a345bdd27f>:3: RuntimeWarning: invalid value encountered in double_scalars\n",
      "  M5_z06_z0 = [a-b for a,b in zip(median_perc_diff_M5z06, median_perc_diff_M5)]\n",
      "<ipython-input-42-62a345bdd27f>:4: RuntimeWarning: invalid value encountered in double_scalars\n",
      "  M6_z06_z0 = [a-b for a,b in zip(median_perc_diff_M6z06, median_perc_diff_M6)]\n"
     ]
    }
   ],
   "source": [
    "M0_z06_z0 = [a-b for a,b in zip(median_perc_diff_M0z06, median_perc_diff_M0)]\n",
    "M1_z06_z0 = [a-b for a,b in zip(median_perc_diff_M1z06, median_perc_diff_M1)]\n",
    "M5_z06_z0 = [a-b for a,b in zip(median_perc_diff_M5z06, median_perc_diff_M5)]\n",
    "M6_z06_z0 = [a-b for a,b in zip(median_perc_diff_M6z06, median_perc_diff_M6)]\n",
    "M10_z06_z0 = [a-b for a,b in zip(median_perc_diff_M10z06, median_perc_diff_M10)]"
   ]
  },
  {
   "cell_type": "code",
   "execution_count": 56,
   "metadata": {},
   "outputs": [
    {
     "data": {
      "image/png": "[encoded data removed]",
      "text/plain": [
       "<Figure size 432x288 with 1 Axes>"
      ]
     },
     "metadata": {
      "needs_background": "light"
     },
     "output_type": "display_data"
    }
   ],
   "source": [
    "plt.axhline(0, color = 'black')\n",
    "plt.plot(rad_0[0], median_perc_diff_M0, color = 'r', label = 'M000, h = 71, OM = 0.26, w0 = -1')\n",
    "plt.plot(rad_0[0], median_perc_diff_M1, color = 'g', label = 'M001, h = 61.67, OM = 0.38, w0 = -0.7')\n",
    "plt.plot(rad_0[0], median_perc_diff_M5, color = 'm', label = 'M005, h = 85, OM = 0.19, w0 = -1.233')\n",
    "plt.plot(rad_0[0], median_perc_diff_M6, color = 'y', label = 'M006, h = 55, OM = 0.43, w0 = -0.7667')\n",
    "plt.plot(rad_0[0], median_perc_diff_M10, color = 'c', label = 'M010, h = 78.33, OM = 0.21, w0 = -1.3')\n",
    "\n",
    "#plt.xlim(0.4,4)\n",
    "plt.title('All Models z = 0')\n",
    "plt.legend()\n",
    "plt.savefig('z0_comp', dpi = 200)\n",
    "plt.show()"
   ]
  },
  {
   "cell_type": "code",
   "execution_count": 96,
   "metadata": {},
   "outputs": [
    {
     "name": "stdout",
     "output_type": "stream",
     "text": [
      "[0.047229858259150145, -0.027090281787556434, -0.05243310729025782, -0.058593896486110374, -0.06345563922092465, -0.0299782240349748, -0.03636076116460883, -0.043262812899965565, -0.04820751013379275, -0.055829168152157674, -0.062185301302275175, -0.06719424808430437, -0.07097645672381543, -0.07793159229598948, -0.089524469119903, -0.09453951173875064, -0.0998640720245335, -0.10208013271376522, -0.11390815851515224, -0.11494261059878372, -0.11706344303308802, -0.12216781557290314, -0.12579847171980343, -0.1287774374390654, -0.13523651046314583, -0.13727348928416994, -0.13574260897519658, -0.1380894297150036, -0.13330951186206838, -0.13245743897125845, -0.12364918739290393, -0.12510147722098858, -0.12000978448581226, -0.1284751422448064, -0.11010884317286576, -0.1116836166692974, -0.09991312907361273, -0.09466984694951963, -0.08338604139002898, -0.09273280594469459, inf, inf, inf, inf, inf, inf, inf, inf, inf, inf, inf, inf, inf, inf, inf, nan, inf, inf, inf, inf, inf, nan, nan, inf, inf, inf, inf, nan, nan, nan, nan, nan, nan, nan, nan, nan, nan, nan, nan, nan]\n"
     ]
    }
   ],
   "source": [
    "print(median_perc_diff_M5)\n"
   ]
  },
  {
   "cell_type": "code",
   "execution_count": 100,
   "metadata": {},
   "outputs": [
    {
     "name": "stdout",
     "output_type": "stream",
     "text": [
      "0.018558929746487377\n",
      "0.02256090160121748\n",
      "-0.09141935319021761\n",
      "0.061594068670679215\n",
      "-0.015067423833165231\n"
     ]
    }
   ],
   "source": [
    "def filter_inf(ar):\n",
    "  return ar[np.isfinite(ar)]\n",
    "\n",
    "mylist = median_perc_diff_M0\n",
    "mylist = [str(x) for x in mylist]\n",
    "newlist = [x for x in mylist if x != 'nan']\n",
    "mpd_M0 = np.asarray(newlist, dtype=np.float64)\n",
    "\n",
    "mylistM1 = median_perc_diff_M1\n",
    "mylistM1 = [str(x) for x in mylistM1]\n",
    "newlistM1 = [x for x in mylistM1 if x != 'nan']\n",
    "mpd_M1 = np.asarray(newlistM1, dtype=np.float64)\n",
    "\n",
    "mylistM5 = median_perc_diff_M5\n",
    "mylistM5 = [str(x) for x in mylistM5]\n",
    "newlistM5 = [x for x in mylistM5 if x != 'nan']\n",
    "mpd_M5_2 = np.asarray(newlistM5, dtype=np.float64)\n",
    "mpd_M5 = filter_inf(mpd_M5_2)\n",
    "\n",
    "mylistM6 = median_perc_diff_M6\n",
    "mylistM6 = [str(x) for x in mylistM6]\n",
    "newlistM6 = [x for x in mylistM6 if x != 'nan']\n",
    "mpd_M6_2 = np.asarray(newlistM6, dtype=np.float64)\n",
    "mpd_M6 = filter_inf(mpd_M6_2)\n",
    "\n",
    "mylistM10 = median_perc_diff_M10\n",
    "mylistM10 = [str(x) for x in mylistM10]\n",
    "newlistM10 = [x for x in mylistM10 if x != 'nan']\n",
    "mpd_M10 = np.asarray(newlistM10, dtype=np.float64)\n",
    "\n",
    "\n",
    "M0z0_avg = np.mean(mpd_M0)\n",
    "print (M0z0_avg)\n",
    "M1z0_avg = np.mean(mpd_M1)\n",
    "print (M1z0_avg)\n",
    "M5z0_avg = np.mean(mpd_M5)\n",
    "print (M5z0_avg)\n",
    "M6z0_avg = np.mean(mpd_M6)\n",
    "print (M6z0_avg)\n",
    "M10z0_avg = np.mean(mpd_M10)\n",
    "print (M10z0_avg)"
   ]
  },
  {
   "cell_type": "code",
   "execution_count": 109,
   "metadata": {},
   "outputs": [
    {
     "data": {
      "image/png": "[encoded data removed]",
      "text/plain": [
       "<Figure size 432x288 with 1 Axes>"
      ]
     },
     "metadata": {
      "needs_background": "light"
     },
     "output_type": "display_data"
    }
   ],
   "source": [
    "plt.scatter(71, M0z0_avg, label = 'M0')\n",
    "plt.scatter(61.67, M1z0_avg, label = 'M1')\n",
    "plt.scatter(85, M5z0_avg, label = 'M5')\n",
    "plt.scatter(55, M6z0_avg, label = 'M6')\n",
    "plt.scatter(78.33, M10z0_avg, label = 'M10')\n",
    "plt.legend()\n",
    "plt.ylabel('Avg. Fractional Difference')\n",
    "plt.xlabel('H value')\n",
    "plt.title('Avg. Frac. Difference vs H')\n",
    "plt.savefig('fracdiff_H_comp.png', dpi = 200)\n",
    "plt.show()"
   ]
  },
  {
   "cell_type": "code",
   "execution_count": 110,
   "metadata": {},
   "outputs": [
    {
     "data": {
      "image/png": "[encoded data removed]",
      "text/plain": [
       "<Figure size 432x288 with 1 Axes>"
      ]
     },
     "metadata": {
      "needs_background": "light"
     },
     "output_type": "display_data"
    }
   ],
   "source": [
    "plt.scatter(-1, M0z0_avg, label = 'M0')\n",
    "plt.scatter(-0.7, M1z0_avg, label = 'M1')\n",
    "plt.scatter(-1.233, M5z0_avg, label = 'M5')\n",
    "plt.scatter(-0.7667, M6z0_avg, label = 'M6')\n",
    "plt.scatter(-1.3, M10z0_avg, label = 'M10')\n",
    "plt.legend()\n",
    "plt.title('Avg. Frac. Difference vs w0')\n",
    "plt.xlabel('w0 value')\n",
    "plt.ylabel('Avg. Fractional Difference')\n",
    "plt.savefig('fracdiff_w0_comp.png', dpi = 200)\n",
    "plt.show()"
   ]
  },
  {
   "cell_type": "code",
   "execution_count": 111,
   "metadata": {},
   "outputs": [
    {
     "data": {
      "image/png": "[encoded data removed]",
      "text/plain": [
       "<Figure size 432x288 with 1 Axes>"
      ]
     },
     "metadata": {
      "needs_background": "light"
     },
     "output_type": "display_data"
    }
   ],
   "source": [
    "plt.scatter(0.25, M0z0_avg, label = 'M0')\n",
    "plt.scatter(0.387, M1z0_avg, label = 'M1')\n",
    "plt.scatter(0.198, M5z0_avg, label = 'M5')\n",
    "plt.scatter(0.435, M6z0_avg, label = 'M6')\n",
    "plt.scatter(0.208, M10z0_avg, label = 'M10')\n",
    "plt.legend()\n",
    "plt.title('Avg. Frac. Difference vs Omega Matter')\n",
    "plt.xlabel('Omega_m value')\n",
    "plt.ylabel('Avg. Fractional Difference')\n",
    "plt.savefig('fracdiff_OM_comp.png', dpi = 200)\n",
    "plt.show()"
   ]
  },
  {
   "cell_type": "code",
   "execution_count": 44,
   "metadata": {},
   "outputs": [
    {
     "data": {
      "image/png": "[encoded data removed]",
      "text/plain": [
       "<Figure size 432x288 with 1 Axes>"
      ]
     },
     "metadata": {
      "needs_background": "light"
     },
     "output_type": "display_data"
    }
   ],
   "source": [
    "plt.axhline(0, color = 'black')\n",
    "plt.plot(rad_0[0], M0_z02_z0, color = 'r', label = 'M000')\n",
    "plt.plot(rad_0[0], M1_z02_z0, color = 'g', label = 'M001')\n",
    "plt.plot(rad_0[0], M5_z02_z0, color = 'm', label = 'M005')\n",
    "plt.plot(rad_0[0], M6_z02_z0, color = 'y', label = 'M006')\n",
    "plt.plot(rad_0[0], M10_z02_z0, color = 'c', label = 'M010')\n",
    "plt.xlim(0.5,2)\n",
    "plt.ylim(-0.1, 0.1)\n",
    "plt.title('z=0.2 - z=0 All Models')\n",
    "plt.savefig('z02-z0_redshift_differences.png', dpi = 200)\n",
    "plt.legend()\n",
    "plt.show()"
   ]
  },
  {
   "cell_type": "code",
   "execution_count": 45,
   "metadata": {},
   "outputs": [
    {
     "data": {
      "image/png": "[encoded data removed]",
      "text/plain": [
       "<Figure size 432x288 with 1 Axes>"
      ]
     },
     "metadata": {
      "needs_background": "light"
     },
     "output_type": "display_data"
    }
   ],
   "source": [
    "plt.axhline(0, color = 'black')\n",
    "plt.plot(rad_0[0], M0_z04_z0, color = 'r', label = 'M000')\n",
    "plt.plot(rad_0[0], M1_z04_z0, color = 'g', label = 'M001')\n",
    "plt.plot(rad_0[0], M5_z04_z0, color = 'm', label = 'M005')\n",
    "plt.plot(rad_0[0], M6_z04_z0, color = 'y', label = 'M006')\n",
    "plt.plot(rad_0[0], M10_z04_z0, color = 'c', label = 'M010')\n",
    "plt.xlim(0.5,2)\n",
    "plt.ylim(-0.2, 0.2)\n",
    "plt.title('z=0.4 - z=0 All Models')\n",
    "plt.savefig('z04-z0_redshift_differences.png', dpi = 200)\n",
    "plt.legend()\n",
    "plt.show()"
   ]
  },
  {
   "cell_type": "code",
   "execution_count": 46,
   "metadata": {},
   "outputs": [
    {
     "data": {
      "image/png": "[encoded data removed]",
      "text/plain": [
       "<Figure size 432x288 with 1 Axes>"
      ]
     },
     "metadata": {
      "needs_background": "light"
     },
     "output_type": "display_data"
    }
   ],
   "source": [
    "plt.axhline(0, color = 'black')\n",
    "plt.plot(rad_0[0], M0_z06_z0, color = 'r', label = 'M000')\n",
    "plt.plot(rad_0[0], M1_z06_z0, color = 'g', label = 'M001')\n",
    "plt.plot(rad_0[0], M5_z06_z0, color = 'm', label = 'M005')\n",
    "plt.plot(rad_0[0], M6_z06_z0, color = 'y', label = 'M006')\n",
    "plt.plot(rad_0[0], M10_z06_z0, color = 'c', label = 'M010')\n",
    "plt.xlim(0.5,2)\n",
    "plt.ylim(-0.1, 0.25)\n",
    "plt.title('z=0.6 - z=0 All Models')\n",
    "plt.savefig('z06-z0_redshift_differences.png', dpi = 200)\n",
    "plt.legend()\n",
    "plt.show()"
   ]
  }
 ],
 "metadata": {
  "kernelspec": {
   "display_name": "Python 3",
   "language": "python",
   "name": "python3"
  },
  "language_info": {
   "codemirror_mode": {
    "name": "ipython",
    "version": 3
   },
   "file_extension": ".py",
   "mimetype": "text/x-python",
   "name": "python",
   "nbconvert_exporter": "python",
   "pygments_lexer": "ipython3",
   "version": "3.8.3"
  }
 },
 "nbformat": 4,
 "nbformat_minor": 4
}
