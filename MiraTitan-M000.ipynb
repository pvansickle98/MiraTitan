{
 "cells": [
  {
   "cell_type": "markdown",
   "metadata": {},
   "source": [
    "### Import Needed Libraries and Files\n",
    "Depending on what model we're using we have to check that the files are for that model"
   ]
  },
  {
   "cell_type": "code",
   "execution_count": 2,
   "metadata": {},
   "outputs": [],
   "source": [
    "import numpy as np\n",
    "import path as Path\n",
    "%matplotlib inline\n",
    "import matplotlib.pyplot as plt\n",
    "import matplotlib as mpl\n",
    "import matplotlib.axes as ax\n",
    "from matplotlib.pyplot import figure\n",
    "from IPython.display import Image\n",
    "from astropy.io import fits\n",
    "from astropy.table import Table\n",
    "from astropy.cosmology import FlatwCDM\n",
    "from astropy.cosmology import FlatLambdaCDM\n",
    "from astropy.cosmology import LambdaCDM\n",
    "from astropy.cosmology import wCDM\n",
    "from astropy.cosmology import Flatw0waCDM\n",
    "import scipy\n",
    "import pdb\n",
    "from escape_functions_noastropy import *\n",
    "from scipy.interpolate import interp1d\n",
    "from scipy.stats import linregress"
   ]
  },
  {
   "cell_type": "code",
   "execution_count": 3,
   "metadata": {},
   "outputs": [],
   "source": [
    "cosmo = FlatwCDM(H0=70, Om0=0.2,w0=-1)\n",
    "cosmo = wCDM(H0=70, Om0=0.2,Ode0 = 0.8,w0=-1)\n",
    "cosmo = FlatLambdaCDM(H0=70,Om0=0.2)\n",
    "cosmo = LambdaCDM(H0=70, Om0=0.2, Ode0 = 0)\n",
    "cosmo = Flatw0waCDM(H0=70, Om0=0.2, w0=-0.9, wa=0.2)"
   ]
  },
  {
   "cell_type": "code",
   "execution_count": 4,
   "metadata": {},
   "outputs": [],
   "source": [
    "def cosmology(cosmology):\n",
    "    case = cosmology.name\n",
    "    if case == 'Flatw0waCDM':\n",
    "        return [cosmology.Om0, cosmology.w0, cosmology.wa, cosmology.h]\n",
    "    \n",
    "    elif case == 'FlatwCDM':\n",
    "        return [cosmology.Om0, cosmology.w0, cosmology.h]\n",
    "\n",
    "    elif case == 'wCDM':\n",
    "        return [cosmology.Om0, cosmology.Ode0, cosmology.w0,cosmology.h]\n",
    "        \n",
    "    elif case == 'LambdaCDM':\n",
    "        return [cosmology.Om0, cosmology.Ode0, cosmology.h]\n",
    "\n",
    "    elif case == 'FlatLambdaCDM':\n",
    "        return [cosmology.Om0, cosmology.h]"
   ]
  },
  {
   "cell_type": "markdown",
   "metadata": {},
   "source": [
    "Now set up reading in important files"
   ]
  },
  {
   "cell_type": "code",
   "execution_count": 5,
   "metadata": {},
   "outputs": [],
   "source": [
    "front_part = '/nfs/Christoq1/pvans/MiraTitan/halo/sort/M000/halopart/'\n",
    "front_halo = '/nfs/Christoq1/pvans/MiraTitan/FOF/M000_good/'\n",
    "front_results = '/nfs/Christoq1/MiraTitanU_analysis/density_fits/results_pvans_M0/'"
   ]
  },
  {
   "cell_type": "code",
   "execution_count": 6,
   "metadata": {
    "scrolled": false
   },
   "outputs": [],
   "source": [
    "rad_file_0 = fits.open(front_results + 'phi_ein/r_vescmax.fits')\n",
    "rad_0 = rad_file_0[0].data\n",
    "m_edge_file_0 = fits.open(front_results + 'phi_ein/v_at_vescmax5.fits')\n",
    "m_edge_0 = m_edge_file_0[0].data\n",
    "dens_fit = fits.open(front_results + 'dens_ein/dens_fit.fits')\n",
    "dt = [('HaloId',int), ('n',float), ('n_err',float),('rho_0',float),('rho_o_err',float),\n",
    "          ('h',float),('h_err',float),('norm_ein',float)]\n",
    "einasto_prof_0 =  np.loadtxt(front_results + 'dens_ein/ds_ein_concentrations.dat', dtype=dt,skiprows=0) "
   ]
  },
  {
   "cell_type": "code",
   "execution_count": 7,
   "metadata": {},
   "outputs": [],
   "source": [
    "rad_file_0_gam = fits.open(front_results + 'phi_gam/r_vescmax.fits')\n",
    "rad_0_gam = rad_file_0_gam[0].data\n",
    "m_edge_file_0_gam = fits.open(front_results + 'phi_gam/v_at_vescmax5.fits')\n",
    "m_edge_0_gam = m_edge_file_0_gam[0].data\n",
    "dens_fit_gam = fits.open(front_results + 'dens_gam/dens_fit.fits')\n",
    "dt2 = [('HaloId', int),('gamma',float),('gamma_err',float),('mass0',float),('mass0_err',float),('r_s',float),('rs_err',float)]\n",
    "dehnen_prof_0 =  np.loadtxt(front_results + 'dens_gam/ds_gam_concentrations.dat', dtype=dt2,skiprows=0) "
   ]
  },
  {
   "cell_type": "code",
   "execution_count": 8,
   "metadata": {},
   "outputs": [
    {
     "name": "stdout",
     "output_type": "stream",
     "text": [
      "251\n"
     ]
    }
   ],
   "source": [
    "print (len(rad_0))"
   ]
  },
  {
   "cell_type": "code",
   "execution_count": 9,
   "metadata": {},
   "outputs": [
    {
     "name": "stdout",
     "output_type": "stream",
     "text": [
      "251\n"
     ]
    }
   ],
   "source": [
    "dt = [('HaloId', np.float64),('m200crit',np.float64),('px',float),('py',float),('pz',float),('vx',float),('vy',float),('vz',float)]\n",
    "filename_0 =  front_halo + 'z00_good.txt'\n",
    "filename_0e =  front_halo + 'z00_extras.txt'\n",
    "cluster_list_0 =  np.loadtxt(filename_0, dtype=dt,skiprows=0)\n",
    "cluster_list_0_e = np.loadtxt(filename_0e, dtype=dt,skiprows=0)\n",
    "print (len(cluster_list_0))\n",
    "\n",
    "#filename = '135284001.0part.fits' \n",
    "#local_filename = front_part + filename\n",
    "#particles = fits.getdata(local_filename)"
   ]
  },
  {
   "cell_type": "markdown",
   "metadata": {},
   "source": [
    "### Start with setting up cosmology, each model is different\n",
    "#### M000\n",
    "Use a cosmology with H0 = 71, Om0 = 0.2314, w0 = -1, wa = 0\n",
    "\n",
    "#### M001\n",
    "Use Flatw0waCDM with H0 = 61.67, Om0 = 0.3362, w0 = -0.7, wa = 0.6722\n",
    "\n"
   ]
  },
  {
   "cell_type": "markdown",
   "metadata": {},
   "source": [
    "### M000"
   ]
  },
  {
   "cell_type": "code",
   "execution_count": 10,
   "metadata": {},
   "outputs": [],
   "source": [
    "cosmo_name = 'FlatLambdaCDM'\n",
    "cosmo = FlatLambdaCDM(H0=71,Om0=0.26479, name = cosmo_name)\n",
    "cosmo_params = cosmology(cosmo)"
   ]
  },
  {
   "cell_type": "code",
   "execution_count": 11,
   "metadata": {},
   "outputs": [
    {
     "name": "stdout",
     "output_type": "stream",
     "text": [
      "Astropys critical density:  139917328634.8423 solMass / Mpc3\n",
      "Internal critical density:  139917328634.8423 solMass / Mpc3\n"
     ]
    }
   ],
   "source": [
    "z=0.0001\n",
    "h_0 = 0.71\n",
    "#mass = np.hstack((cluster_list_0['m200crit'], cluster_list_0_e['m200crit']))\n",
    "mass = cluster_list_0['m200crit']\n",
    "hmass = mass/h_0\n",
    "#print (hmass)\n",
    "M200 = hmass*u.solMass\n",
    "rho_crit = cosmo.critical_density(z)\n",
    "rho_crit = rho_crit.to(u.solMass / u.Mpc**3)\n",
    "print ('Astropys critical density: ', rho_crit)\n",
    "print ('Internal critical density: ',rho_crit_z(z,cosmo_params,'FlatLambdaCDM'))\n",
    "R200crit =  (3*M200/(4*np.pi*200.* rho_crit))**(1./3.)\n",
    "radius_array = np.linspace(0.3,2.0,100).round(3) #specify radius array for profiles. used in v_esc(r) funcs below.\n",
    "theta_array = radius_array /cosmo.angular_diameter_distance(z)\n",
    "R200crit =  (3*M200/(4*np.pi*200.* rho_crit))**(1./3.)\n",
    "#print ('Spherical R200 for a given M200: ', R200crit)\n",
    "G_newton = astroc.G.to( u.Mpc *  u.km**2 / u.s**2 / u.solMass).value #Mpc km2/s^2 kg\n",
    "#print ('Gravity (Mpc km2/s^2 kg), mass, cosmology: ', G_newton, M200, cosmo_params, cosmo.name)\n",
    "#print ('q = ', q_z_function(z, cosmo_params,cosmo.name))\n",
    "#print ('r_eq = ', r_eq(0.2,M200_orig,cosmo_params, cosmo.name))"
   ]
  },
  {
   "cell_type": "code",
   "execution_count": 24,
   "metadata": {},
   "outputs": [],
   "source": [
    "z_0 = np.array((0.0001))\n",
    "z_0 = np.repeat(z_0,(251))\n",
    "num_clus = len(z_0)\n",
    "M200_orig = np.repeat(hmass,len(z_0))\n",
    "M200_use = np.repeat(hmass,(1))\n",
    "R200 =  ((3*M200)/(4*np.pi*200.* rho_crit))**(1./3.)\n",
    "N = np.repeat(1000000,len(z_0))\n",
    "\n",
    "rho_0_list = einasto_prof_0['rho_0']\n",
    "h_list = einasto_prof_0['h']\n",
    "n_list = einasto_prof_0['n']\n",
    "rho_0 = np.repeat(rho_0_list, (1))\n",
    "h = np.repeat(h_list, (1))\n",
    "n = np.repeat(n_list, (1))\n",
    "\n",
    "gamma_list = dehnen_prof_0['gamma']\n",
    "mass0_list = dehnen_prof_0['mass0']\n",
    "r_s_list = dehnen_prof_0['r_s']\n",
    "gamma = np.repeat(gamma_list, (1))\n",
    "mass_0 = np.repeat(mass0_list, (1))\n",
    "r_s = np.repeat(r_s_list, (1))\n",
    "\n",
    "radius_array = rad_0_gam #specify radius array for profiles. used in v_esc(r) funcs below.\n",
    "#print (len(rad_0_gam))\n",
    "radial_bins = 80\n",
    "xdata = np.zeros((len(z_0),radial_bins))\n",
    "for i in range(len(z_0)):\n",
    "    #print (radius_array[i,:])\n",
    "    xdata[i,:] = radius_array[i,:] /D_A(z_0[i], cosmo_params, cosmo.name).value\n",
    "    #print (xdata[i,:])\n",
    "r_M0_DEH,vesc_M0_DEH = v_esc_dehnen(xdata,z_0,mass_0,r_s,gamma,N, cosmo_params, cosmo_name, num_clus)\n",
    "r_M0_EIN,vesc_M0_EIN = v_esc_einasto(xdata,z_0,rho_0,h,n,N, cosmo_params, cosmo_name, num_clus)\n",
    "r_M0_NFW,vesc_M0_NFW = v_esc_NFW_M200(xdata,z_0,M200_use,N, cosmo_params, cosmo_name, num_clus)"
   ]
  },
  {
   "cell_type": "code",
   "execution_count": 25,
   "metadata": {},
   "outputs": [
    {
     "name": "stdout",
     "output_type": "stream",
     "text": [
      "401223026999296.0\n"
     ]
    }
   ],
   "source": [
    "print (min(mass))"
   ]
  },
  {
   "cell_type": "code",
   "execution_count": 26,
   "metadata": {},
   "outputs": [
    {
     "name": "stdout",
     "output_type": "stream",
     "text": [
      "[0.05 0.15 0.25 0.35 0.45 0.55 0.65 0.75 0.85 0.95 1.05 1.15 1.25 1.35\n",
      " 1.45 1.55 1.65 1.75 1.85 1.95 2.05 2.15 2.25 2.35 2.45 2.55 2.65 2.75\n",
      " 2.85 2.95 3.05 3.15 3.25 3.35 3.45 3.55 3.65 3.75 3.85 3.95 4.05 4.15\n",
      " 4.25 4.35 4.45 4.55 4.65 4.75 4.85 4.95 5.05 5.15 5.25 5.35 5.45 5.55\n",
      " 5.65 5.75 5.85 5.95 6.05 6.15 6.25 6.35 6.45 6.55 6.65 6.75 6.85 6.95\n",
      " 7.05 7.15 7.25 7.35 7.45 7.55 7.65 7.75 7.85 7.95] [3549.3692762  3494.48411815 3418.79793389 3334.7874333  3248.30830299\n",
      " 3162.33009007 3078.38519275 2997.24179151 2919.24607768 2844.50667241\n",
      " 2772.99807456 2704.62035274 2639.23424903 2576.68204106 2516.79995946\n",
      " 2459.42550806 2404.40166857 2351.57918644 2300.81767312 2251.98598184\n",
      " 2204.96214427 2159.63304919 2115.89397847 2073.64807256 2032.80577116\n",
      " 1993.28425686 1955.00691855 1917.90284385 1881.90634528 1846.95652199\n",
      " 1812.99685674 1779.97484707 1747.84166862 1716.55186851 1686.0630864\n",
      " 1656.33580092 1627.33309918 1599.02046735 1571.36560021 1544.33822797\n",
      " 1517.90995863 1492.05413435 1466.74570062 1441.96108678 1417.67809697\n",
      " 1393.87581043 1370.53449019 1347.63549953 1325.1612253  1303.09500753\n",
      " 1281.42107479 1260.12448467 1239.19106899 1218.60738332 1198.36066035\n",
      " 1178.43876683 1158.83016379 1139.52386966 1120.50942614 1101.77686655\n",
      " 1083.31668642 1065.1198162  1047.17759582 1029.4817511  1012.02437166\n",
      "  994.7978904   977.79506432  961.00895657  944.43291972  928.06058004\n",
      "  911.88582279  895.90277849  880.10580988  864.48949987  849.04864001\n",
      "  833.77821975  818.67341631  803.72958509  788.94225061  774.30709797]\n"
     ]
    }
   ],
   "source": [
    "print(r_M0_DEH[0],vesc_M0_DEH[0])"
   ]
  },
  {
   "cell_type": "code",
   "execution_count": 27,
   "metadata": {},
   "outputs": [
    {
     "name": "stdout",
     "output_type": "stream",
     "text": [
      "Largest Halo Mass =  3718331262935617.0 Solar Masses\n"
     ]
    },
    {
     "data": {
      "image/png": "[encoded data removed]",
      "text/plain": [
       "<Figure size 432x288 with 1 Axes>"
      ]
     },
     "metadata": {
      "needs_background": "light"
     },
     "output_type": "display_data"
    }
   ],
   "source": [
    "j=5\n",
    "plt.plot(rad_0[j,:], m_edge_0[j,:], color = 'b', label = 'measured')\n",
    "plt.plot(rad_0[j,:], vesc_M0_EIN[j,:], color = 'r', label = 'Einasto')\n",
    "plt.plot(rad_0[j,:], vesc_M0_DEH[j,:], color = 'g', label = 'Dehnen')\n",
    "print('Largest Halo Mass = ', M200_use[5], 'Solar Masses')\n",
    "plt.xlim(0,4)\n",
    "plt.xlabel('Radius Mpc')\n",
    "plt.ylabel('Escape Velocity')\n",
    "plt.legend()\n",
    "plt.show()"
   ]
  },
  {
   "cell_type": "code",
   "execution_count": 28,
   "metadata": {},
   "outputs": [
    {
     "name": "stderr",
     "output_type": "stream",
     "text": [
      "<ipython-input-28-a0dc44722bb9>:12: RuntimeWarning: divide by zero encountered in true_divide\n",
      "  pd_0 = (vesc_M0_EIN[j,:]-m_edge_0[j,:])/m_edge_0[j,:]\n",
      "<ipython-input-28-a0dc44722bb9>:14: RuntimeWarning: divide by zero encountered in true_divide\n",
      "  pd_0_d = (vesc_M0_DEH[j,:]-m_edge_0[j,:])/m_edge_0[j,:]\n",
      "/u/home/pvans/anaconda3/lib/python3.8/site-packages/numpy/lib/function_base.py:3942: RuntimeWarning: invalid value encountered in multiply\n",
      "  x2 = take(ap, indices_above, axis=axis) * weights_above\n"
     ]
    }
   ],
   "source": [
    "perc_diff_M0 = []\n",
    "median_perc_diff_M0 = []\n",
    "median_high_M0 = []\n",
    "median_low_M0 = []\n",
    "\n",
    "perc_diff_M0_d = []\n",
    "median_perc_diff_M0_d = []\n",
    "median_high_M0_d = []\n",
    "median_low_M0_d = []\n",
    "\n",
    "for j in range(len(z_0)):\n",
    "    pd_0 = (vesc_M0_EIN[j,:]-m_edge_0[j,:])/m_edge_0[j,:]\n",
    "    perc_diff_M0.append(pd_0)\n",
    "    pd_0_d = (vesc_M0_DEH[j,:]-m_edge_0[j,:])/m_edge_0[j,:]\n",
    "    perc_diff_M0_d.append(pd_0_d)\n",
    "    \n",
    "perc_diff_arr_M0 = np.array(perc_diff_M0)\n",
    "perc_diff_arr_M0_d = np.array(perc_diff_M0_d)\n",
    "\n",
    "for m in range(80):\n",
    "    median = np.percentile(perc_diff_arr_M0[:,m],50)\n",
    "    median_perc_diff_M0.append(median)\n",
    "    median_high = np.percentile(perc_diff_arr_M0[:,m],83.5)\n",
    "    median_high_M0.append(median_high)\n",
    "    median_low = np.percentile(perc_diff_arr_M0[:,m],16.5)\n",
    "    median_low_M0.append(median_low)\n",
    "    median_d = np.percentile(perc_diff_arr_M0_d[:,m],50)\n",
    "    median_perc_diff_M0_d.append(median_d)\n",
    "    median_high_d = np.percentile(perc_diff_arr_M0_d[:,m],83.5)\n",
    "    median_high_M0_d.append(median_high_d)\n",
    "    median_low_d = np.percentile(perc_diff_arr_M0_d[:,m],16.5)\n",
    "    median_low_M0_d.append(median_low_d)"
   ]
  },
  {
   "cell_type": "code",
   "execution_count": 29,
   "metadata": {},
   "outputs": [
    {
     "data": {
      "image/png": "[encoded data removed]",
      "text/plain": [
       "<Figure size 432x288 with 1 Axes>"
      ]
     },
     "metadata": {
      "needs_background": "light"
     },
     "output_type": "display_data"
    }
   ],
   "source": [
    "plt.title('M000 Compare Density Fits')\n",
    "plt.xlabel('Radius (Mpc)')\n",
    "plt.ylabel('Velocity Percent Differences')\n",
    "for (j,k) in zip(range(len(z_0)), range(80)):\n",
    "    if(j==0):\n",
    "        plt.axhline(0)\n",
    "        plt.scatter(rad_0[j,:], median_perc_diff_M0, color = 'c', marker = '.', label = 'M000 median percent difference einasto')\n",
    "        plt.scatter(rad_0[j,:], median_perc_diff_M0_d, color = 'r', marker = '.', label = 'M000 median percent difference dehnen')\n",
    "    else:\n",
    "        plt.axhline(0)\n",
    "        plt.scatter(rad_0[j,:], median_perc_diff_M0, color = 'c', marker = '.')\n",
    "        plt.scatter(rad_0[j,:], median_perc_diff_M0_d, color = 'r', marker = '.')\n",
    "\n",
    "plt.plot(rad_0[0], median_high_M0, color = 'c')\n",
    "plt.plot(rad_0[0], median_low_M0, color = 'c')\n",
    "plt.fill_between(rad_0[0], median_low_M0, median_high_M0, color = 'c', alpha = 0.1, label = '67% scatter einasto')\n",
    "\n",
    "plt.plot(rad_0[0], median_high_M0_d, color = 'r')\n",
    "plt.plot(rad_0[0], median_low_M0_d, color = 'r')\n",
    "plt.fill_between(rad_0[0], median_low_M0_d, median_high_M0_d, color = 'r', alpha = 0.1, label = '67% scatter dehnen')\n",
    "\n",
    "plt.xlim(0,4.0)\n",
    "plt.ylim(-0.5,0.5)\n",
    "plt.legend(loc = 'upper left', bbox_to_anchor=(1, 1))\n",
    "plt.savefig('M0z0_comp.png', dpi=200)\n",
    "plt.show()"
   ]
  },
  {
   "cell_type": "code",
   "execution_count": 18,
   "metadata": {},
   "outputs": [
    {
     "ename": "NameError",
     "evalue": "name 'cluster_list_10' is not defined",
     "output_type": "error",
     "traceback": [
      "\u001b[0;31m---------------------------------------------------------------------------\u001b[0m",
      "\u001b[0;31mNameError\u001b[0m                                 Traceback (most recent call last)",
      "\u001b[0;32m<ipython-input-18-8eb3d704b6b3>\u001b[0m in \u001b[0;36m<module>\u001b[0;34m\u001b[0m\n\u001b[1;32m      1\u001b[0m \u001b[0mz\u001b[0m\u001b[0;34m=\u001b[0m\u001b[0;36m0\u001b[0m\u001b[0;34m\u001b[0m\u001b[0;34m\u001b[0m\u001b[0m\n\u001b[1;32m      2\u001b[0m \u001b[0mh_0\u001b[0m \u001b[0;34m=\u001b[0m \u001b[0;36m0.7833\u001b[0m\u001b[0;34m\u001b[0m\u001b[0;34m\u001b[0m\u001b[0m\n\u001b[0;32m----> 3\u001b[0;31m \u001b[0mmass\u001b[0m \u001b[0;34m=\u001b[0m \u001b[0mcluster_list_10\u001b[0m\u001b[0;34m[\u001b[0m\u001b[0;34m'm200crit'\u001b[0m\u001b[0;34m]\u001b[0m\u001b[0;34m\u001b[0m\u001b[0;34m\u001b[0m\u001b[0m\n\u001b[0m\u001b[1;32m      4\u001b[0m \u001b[0mhmass\u001b[0m \u001b[0;34m=\u001b[0m \u001b[0mmass\u001b[0m\u001b[0;34m/\u001b[0m\u001b[0mh_0\u001b[0m\u001b[0;34m\u001b[0m\u001b[0;34m\u001b[0m\u001b[0m\n\u001b[1;32m      5\u001b[0m \u001b[0;31m#print (len(hmass))\u001b[0m\u001b[0;34m\u001b[0m\u001b[0;34m\u001b[0m\u001b[0;34m\u001b[0m\u001b[0m\n",
      "\u001b[0;31mNameError\u001b[0m: name 'cluster_list_10' is not defined"
     ]
    }
   ],
   "source": [
    "z=0\n",
    "h_0 = 0.7833\n",
    "mass = cluster_list_10['m200crit']\n",
    "hmass = mass/h_0\n",
    "#print (len(hmass))\n",
    "M200 = hmass*u.solMass\n",
    "rho_crit = cosmo.critical_density(z)\n",
    "rho_crit = rho_crit.to(u.solMass / u.Mpc**3)\n",
    "print ('Astropys critical density: ', rho_crit)\n",
    "print ('Internal critical density: ',rho_crit_z(z,cosmo_params,'Flatw0waCDM'))\n",
    "R200crit =  (3*M200/(4*np.pi*200.* rho_crit))**(1./3.)\n",
    "radius_array = np.linspace(0.3,2.0,100).round(3) #specify radius array for profiles. used in v_esc(r) funcs below.\n",
    "theta_array = radius_array /cosmo.angular_diameter_distance(z)\n",
    "R200crit =  (3*M200/(4*np.pi*200.* rho_crit))**(1./3.)\n",
    "#print ('Spherical R200 for a given M200: ', R200crit)\n",
    "G_newton = astroc.G.to( u.Mpc *  u.km**2 / u.s**2 / u.solMass).value #Mpc km2/s^2 kg\n",
    "#print ('Gravity (Mpc km2/s^2 kg), mass, cosmology: ', G_newton, M200, cosmo_params, cosmo.name)\n",
    "#print ('q = ', q_z_function(z, cosmo_params,cosmo.name))\n",
    "#print ('r_eq = ', r_eq(0.2,M200_orig,cosmo_params, cosmo.name))"
   ]
  },
  {
   "cell_type": "code",
   "execution_count": 57,
   "metadata": {},
   "outputs": [
    {
     "name": "stderr",
     "output_type": "stream",
     "text": [
      "/nfs/Christoq1/pvans/MiraTitan/analysis_notebooks/escapevelocitycosmology/escape_functions_noastropy.py:77: RuntimeWarning: invalid value encountered in sqrt\n",
      "  v_esc = (-2.*phi_dehnen(r,mass_0[i],r_s[i],gamma[i])+2.*phi_dehnen(req,mass_0[i],r_s[i],gamma[i]) - q_z*(H_z**2.)*(r**2. - req**2.)  )**0.5\n",
      "/nfs/Christoq1/pvans/MiraTitan/analysis_notebooks/escapevelocitycosmology/escape_functions_noastropy.py:128: RuntimeWarning: invalid value encountered in sqrt\n",
      "  v_esc =  (-2.*phi_einasto(r,rho_0[i],h[i],n[i])+2.*phi_einasto(req,rho_0[i],h[i],n[i]) - q_z*(H_z**2.)*(r**2. - req**2.)  )**0.5\n"
     ]
    }
   ],
   "source": [
    "z_10 = np.array((0.001))\n",
    "z_10 = np.repeat(z_10,(114))\n",
    "num_clus = len(z_10)\n",
    "M200_orig = np.repeat(hmass,len(z_10))\n",
    "M200_use = np.repeat(hmass,(1))\n",
    "R200 =  ((3*M200)/(4*np.pi*200.* rho_crit))**(1./3.)\n",
    "N = np.repeat(1000000,len(z_10))\n",
    "rho_0_list = density_prof_10['rho_0']\n",
    "h_list = density_prof_10['h']\n",
    "n_list = density_prof_10['n']\n",
    "rho_0 = np.repeat(rho_0_list, (1))\n",
    "h = np.repeat(h_list, (1))\n",
    "n = np.repeat(n_list, (1))\n",
    "\n",
    "gamma_list = dehnen_prof_10['gamma']\n",
    "mass0_list = dehnen_prof_10['mass0']\n",
    "r_s_list = dehnen_prof_10['r_s']\n",
    "gamma = np.repeat(gamma_list, (1))\n",
    "mass_0 = np.repeat(mass0_list, (1))\n",
    "r_s = np.repeat(r_s_list, (1))\n",
    "\n",
    "radius_array = rad_10 #specify radius array for profiles. used in v_esc(r) funcs below.\n",
    "radial_bins = 80\n",
    "xdata = np.zeros((len(z_10),radial_bins))\n",
    "for i in range(len(z_10)):\n",
    "    xdata[i,:] = radius_array[i,:] /D_A(z_10[i], cosmo_params, cosmo.name).value\n",
    "r_M10_DEH,vesc_M10_DEH = v_esc_dehnen(xdata,z_10,mass_0,r_s,gamma,N, cosmo_params, cosmo_name, num_clus)\n",
    "r_M10_EIN,vesc_M10_EIN = v_esc_einasto(xdata,z_10,rho_0,h,n,N,cosmo_params, cosmo_name,num_clus)\n",
    "r_M10_NFW,vesc_M10_NFW = v_esc_NFW_M200(xdata,z_10,M200_use,N,cosmo_params, cosmo_name, num_clus)"
   ]
  },
  {
   "cell_type": "code",
   "execution_count": 58,
   "metadata": {},
   "outputs": [
    {
     "name": "stdout",
     "output_type": "stream",
     "text": [
      "[[0.05 0.15 0.25 ... 7.75 7.85 7.95]\n",
      " [0.05 0.15 0.25 ... 7.75 7.85 7.95]\n",
      " [0.05 0.15 0.25 ... 7.75 7.85 7.95]\n",
      " ...\n",
      " [0.05 0.15 0.25 ... 7.75 7.85 7.95]\n",
      " [0.05 0.15 0.25 ... 7.75 7.85 7.95]\n",
      " [0.05 0.15 0.25 ... 7.75 7.85 7.95]] [[3146.38281591 2993.93193095 2855.03210472 ...  195.00798624\n",
      "   178.25573867  161.31494399]\n",
      " [3285.84086855 3170.47439378 3043.8201765  ...  247.81046989\n",
      "   231.47916092  215.16579074]\n",
      " [3636.39427569 3420.05635882 3263.16234657 ...  522.24851934\n",
      "   504.52651048  486.88521085]\n",
      " ...\n",
      " [3431.46226577 3226.75240859 3060.93722613 ...  269.29877638\n",
      "   252.67204479  236.04023993]\n",
      " [3100.86709587 2885.12495799 2727.91227775 ...  187.54210459\n",
      "   169.42322693  150.75460222]\n",
      " [3681.35389865 3584.42463389 3476.08410725 ...  535.23609965\n",
      "   517.54900848  499.99618379]]\n"
     ]
    }
   ],
   "source": [
    "print(r_M10_DEH,vesc_M10_DEH)"
   ]
  },
  {
   "cell_type": "code",
   "execution_count": 61,
   "metadata": {},
   "outputs": [
    {
     "name": "stdout",
     "output_type": "stream",
     "text": [
      "1752720453140480.0\n"
     ]
    }
   ],
   "source": [
    "print ((mass[108]))"
   ]
  },
  {
   "cell_type": "code",
   "execution_count": 62,
   "metadata": {
    "scrolled": true
   },
   "outputs": [
    {
     "name": "stdout",
     "output_type": "stream",
     "text": [
      "Largest Halo Mass =  2237610689570381.8 Solar Masses\n"
     ]
    },
    {
     "data": {
      "image/png": "[encoded data removed]",
      "text/plain": [
       "<Figure size 432x288 with 1 Axes>"
      ]
     },
     "metadata": {
      "needs_background": "light"
     },
     "output_type": "display_data"
    }
   ],
   "source": [
    "j=108\n",
    "plt.plot(rad_10[j,:], m_edge_10[j,:], label = 'measured')\n",
    "plt.plot(rad_10[j,:], vesc_M10_DEH[j,:], label = 'dehnen')\n",
    "print('Largest Halo Mass = ', M200_use[108], 'Solar Masses')\n",
    "plt.xlim(0,2)\n",
    "plt.legend()\n",
    "plt.show()"
   ]
  },
  {
   "cell_type": "code",
   "execution_count": 57,
   "metadata": {},
   "outputs": [],
   "source": [
    "cosmo_name = 'FlatLambdaCDM'\n",
    "cosmo = FlatLambdaCDM(H0=78.33, Om0=0.18553, name = cosmo_name)\n",
    "cosmo_params = cosmology(cosmo)"
   ]
  },
  {
   "cell_type": "code",
   "execution_count": 58,
   "metadata": {},
   "outputs": [
    {
     "name": "stdout",
     "output_type": "stream",
     "text": [
      "Astropys critical density:  170285064945.96158 solMass / Mpc3\n",
      "Internal critical density:  170285064945.96152 solMass / Mpc3\n"
     ]
    },
    {
     "name": "stderr",
     "output_type": "stream",
     "text": [
      "/u/home/pvans/anaconda3/lib/python3.8/site-packages/astropy/units/quantity.py:477: RuntimeWarning: divide by zero encountered in true_divide\n",
      "  result = super().__array_ufunc__(function, method, *arrays, **kwargs)\n"
     ]
    }
   ],
   "source": [
    "z=0\n",
    "h_0 = 0.7833\n",
    "mass = cluster_list_10['m200crit']\n",
    "hmass = mass/h_0\n",
    "#print (len(hmass))\n",
    "M200 = hmass*u.solMass\n",
    "rho_crit = cosmo.critical_density(z)\n",
    "rho_crit = rho_crit.to(u.solMass / u.Mpc**3)\n",
    "print ('Astropys critical density: ', rho_crit)\n",
    "print ('Internal critical density: ',rho_crit_z(z,cosmo_params,'FlatLambdaCDM'))\n",
    "R200crit =  (3*M200/(4*np.pi*200.* rho_crit))**(1./3.)\n",
    "radius_array = np.linspace(0.3,2.0,100).round(3) #specify radius array for profiles. used in v_esc(r) funcs below.\n",
    "theta_array = radius_array /cosmo.angular_diameter_distance(z)\n",
    "R200crit =  (3*M200/(4*np.pi*200.* rho_crit))**(1./3.)\n",
    "#print ('Spherical R200 for a given M200: ', R200crit)\n",
    "G_newton = astroc.G.to( u.Mpc *  u.km**2 / u.s**2 / u.solMass).value #Mpc km2/s^2 kg\n",
    "#print ('Gravity (Mpc km2/s^2 kg), mass, cosmology: ', G_newton, M200, cosmo_params, cosmo.name)\n",
    "#print ('q = ', q_z_function(z, cosmo_params,cosmo.name))\n",
    "#print ('r_eq = ', r_eq(0.2,M200_orig,cosmo_params, cosmo.name))"
   ]
  },
  {
   "cell_type": "code",
   "execution_count": 59,
   "metadata": {},
   "outputs": [],
   "source": [
    "z_10 = np.array((0.001))\n",
    "z_10 = np.repeat(z_10,(114))\n",
    "num_clus = len(z_10)\n",
    "M200_orig = np.repeat(hmass,len(z_10))\n",
    "M200_use = np.repeat(hmass,(1))\n",
    "R200 =  ((3*M200)/(4*np.pi*200.* rho_crit))**(1./3.)\n",
    "N = np.repeat(1000000,len(z_10))\n",
    "rho_0_list = density_prof_10['rho_0']\n",
    "h_list = density_prof_10['h']\n",
    "n_list = density_prof_10['n']\n",
    "rho_0 = np.repeat(rho_0_list, (1))\n",
    "h = np.repeat(h_list, (1))\n",
    "n = np.repeat(n_list, (1))\n",
    "\n",
    "gamma_list = dehnen_prof_10['gamma']\n",
    "mass0_list = dehnen_prof_10['mass0']\n",
    "r_s_list = dehnen_prof_10['r_s']\n",
    "gamma = np.repeat(gamma_list, (1))\n",
    "mass_0 = np.repeat(mass0_list, (1))\n",
    "r_s = np.repeat(r_s_list, (1))\n",
    "\n",
    "radius_array = rad_10 #specify radius array for profiles. used in v_esc(r) funcs below.\n",
    "radial_bins = 80\n",
    "xdata = np.zeros((len(z_10),radial_bins))\n",
    "for i in range(len(z_10)):\n",
    "    xdata[i,:] = radius_array[i,:] /D_A(z_10[i], cosmo_params, cosmo.name).value\n",
    "r_M10_DEH_fl,vesc_M10_DEH_fl = v_esc_dehnen(xdata,z_10,mass_0,r_s,gamma,N, cosmo_params, cosmo_name, num_clus)\n",
    "r_M10_EIN_fl,vesc_M10_EIN_fl = v_esc_einasto(xdata,z_10,rho_0,h,n,N,cosmo_params, cosmo_name,num_clus)\n",
    "r_M10_NFW_fl,vesc_M10_NFW_fl = v_esc_NFW_M200(xdata,z_10,M200_use,N,cosmo_params, cosmo_name, num_clus)"
   ]
  },
  {
   "cell_type": "code",
   "execution_count": 60,
   "metadata": {},
   "outputs": [
    {
     "name": "stderr",
     "output_type": "stream",
     "text": [
      "<ipython-input-60-ce2786704eb0>:15: RuntimeWarning: divide by zero encountered in true_divide\n",
      "  pd_10 = (vesc_M10_EIN[j,:]-m_edge_10[j,:])/m_edge_10[j,:]\n",
      "<ipython-input-60-ce2786704eb0>:17: RuntimeWarning: divide by zero encountered in true_divide\n",
      "  pd_10_d = (vesc_M10_DEH[j,:]-m_edge_10[j,:])/m_edge_10[j,:]\n",
      "<ipython-input-60-ce2786704eb0>:19: RuntimeWarning: divide by zero encountered in true_divide\n",
      "  pd_10_fl = (vesc_M10_EIN_fl[j,:]-m_edge_10[j,:])/m_edge_10[j,:]\n",
      "<ipython-input-60-ce2786704eb0>:21: RuntimeWarning: divide by zero encountered in true_divide\n",
      "  pd_10_d_fl = (vesc_M10_DEH_fl[j,:]-m_edge_10[j,:])/m_edge_10[j,:]\n"
     ]
    }
   ],
   "source": [
    "perc_diff_M10 = []\n",
    "median_perc_diff_M10 = []\n",
    "median_high_M10 = []\n",
    "median_low_M10 = []\n",
    "perc_diff_M10_d = []\n",
    "median_perc_diff_M10_d = []\n",
    "median_high_M10_d = []\n",
    "median_low_M10_d = []\n",
    "perc_diff_M10_fl = []\n",
    "perc_diff_M10_d_fl = []\n",
    "median_perc_diff_M10_fl = []\n",
    "median_perc_diff_M10_d_fl = []\n",
    "\n",
    "for j in range(len(z_10)):\n",
    "    pd_10 = (vesc_M10_EIN[j,:]-m_edge_10[j,:])/m_edge_10[j,:]\n",
    "    perc_diff_M10.append(pd_10)\n",
    "    pd_10_d = (vesc_M10_DEH[j,:]-m_edge_10[j,:])/m_edge_10[j,:]\n",
    "    perc_diff_M10_d.append(pd_10_d)\n",
    "    pd_10_fl = (vesc_M10_EIN_fl[j,:]-m_edge_10[j,:])/m_edge_10[j,:]\n",
    "    perc_diff_M10_fl.append(pd_10_fl)\n",
    "    pd_10_d_fl = (vesc_M10_DEH_fl[j,:]-m_edge_10[j,:])/m_edge_10[j,:]\n",
    "    perc_diff_M10_d_fl.append(pd_10_d_fl)\n",
    "    \n",
    "perc_diff_arr_M10 = np.array(perc_diff_M10)\n",
    "perc_diff_arr_M10_d = np.array(perc_diff_M10_d)\n",
    "perc_diff_arr_M10_fl = np.array(perc_diff_M10_fl)\n",
    "perc_diff_arr_M10_d_fl = np.array(perc_diff_M10_d_fl)\n",
    "#print (perc_diff_arr_M0[0,0])\n",
    "\n",
    "for m in range(80):\n",
    "    median = np.percentile(perc_diff_arr_M10[:,m],50)\n",
    "    median_perc_diff_M10.append(median)\n",
    "    median_high = np.percentile(perc_diff_arr_M10[:,m],83.5)\n",
    "    median_high_M10.append(median_high)\n",
    "    median_low = np.percentile(perc_diff_arr_M10[:,m],16.5)\n",
    "    median_low_M10.append(median_low)\n",
    "    median_d = np.percentile(perc_diff_arr_M10_d[:,m],50)\n",
    "    median_perc_diff_M10_d.append(median_d)\n",
    "    median_high_d = np.percentile(perc_diff_arr_M10_d[:,m],83.5)\n",
    "    median_high_M10_d.append(median_high_d)\n",
    "    median_low_d = np.percentile(perc_diff_arr_M10_d[:,m],16.5)\n",
    "    median_low_M10_d.append(median_low_d)\n",
    "    median_fl = np.percentile(perc_diff_arr_M10_fl[:,m],50)\n",
    "    median_perc_diff_M10_fl.append(median_fl)\n",
    "    median_d_fl = np.percentile(perc_diff_arr_M10_d_fl[:,m],50)\n",
    "    median_perc_diff_M10_d_fl.append(median_d_fl)"
   ]
  },
  {
   "cell_type": "code",
   "execution_count": 61,
   "metadata": {},
   "outputs": [
    {
     "data": {
      "image/png": "[encoded data removed]",
      "text/plain": [
       "<Figure size 432x288 with 1 Axes>"
      ]
     },
     "metadata": {
      "needs_background": "light"
     },
     "output_type": "display_data"
    }
   ],
   "source": [
    "plt.title('M010 Compare Density Fits')\n",
    "plt.xlabel('Radius (Mpc)')\n",
    "plt.ylabel('Velocity Percent Differences')\n",
    "for (j,k) in zip(range(len(z_10)), range(80)):\n",
    "    if(j==0):\n",
    "        plt.axhline(0)\n",
    "        plt.scatter(rad_10[j,:], median_perc_diff_M10, color = 'c', marker = '.', label = 'M010 median percent difference einasto')\n",
    "        plt.scatter(rad_10[j,:], median_perc_diff_M10_d, color = 'r', marker = '.', label = 'M010 median percent difference einasto')\n",
    "    else:\n",
    "        plt.scatter(rad_10[j,:], median_perc_diff_M10, color = 'c', marker = '.')  \n",
    "        plt.scatter(rad_10[j,:], median_perc_diff_M10_d, color = 'r', marker = '.')\n",
    "\n",
    "plt.plot(rad_10[0], median_high_M10, color = 'c')\n",
    "plt.plot(rad_10[0], median_low_M10, color = 'c')\n",
    "plt.fill_between(rad_10[0], median_low_M10, median_high_M10, color = 'c', alpha = 0.1, label = '67% scatter')\n",
    "\n",
    "plt.plot(rad_10[0], median_high_M10_d, color = 'r')\n",
    "plt.plot(rad_10[0], median_low_M10_d, color = 'r')\n",
    "plt.fill_between(rad_10[0], median_low_M10_d, median_high_M10_d, color = 'r', alpha = 0.1, label = '67% scatter')\n",
    "\n",
    "plt.plot(rad_1[0], median_perc_diff_M1_fl, color = 'black', label = 'Dehnen Flat LCDM')\n",
    "plt.plot(rad_1[0], median_perc_diff_M1_fl_d, color = 'blue', label = 'Einasto Flat LCDM')\n",
    "\n",
    "plt.xlim(0,4.0)\n",
    "plt.ylim(-0.5,0.5)\n",
    "plt.legend(loc = 'upper left', bbox_to_anchor=(1, 1))\n",
    "plt.show()"
   ]
  },
  {
   "cell_type": "markdown",
   "metadata": {},
   "source": [
    "## Now compare the models!"
   ]
  },
  {
   "cell_type": "code",
   "execution_count": null,
   "metadata": {},
   "outputs": [],
   "source": [
    "perc_diff_M0 = []\n",
    "perc_diff_M1 = []\n",
    "perc_diff_M10 = []\n",
    "mean_perc_diff_M0 = []\n",
    "mean_perc_diff_M1 = []\n",
    "mean_perc_diff_M10 = []\n",
    "actual = []\n",
    "for j in range(len(z_0)):\n",
    "    pd_0 = (vesc_M0_EIN[j,:]-m_edge_0[j,:])/m_edge_0[j,:]\n",
    "    perc_diff_M0.append(pd_0)\n",
    "for k in range(len(z_1)):\n",
    "    pd_1 = (vesc_M1_EIN[k,:]-m_edge_1[k,:])/m_edge_1[k,:]\n",
    "    perc_diff_M1.append(pd_1)\n",
    "for l in range(len(z_10)):\n",
    "    pd_10 = (vesc_M10_EIN[l,:]-m_edge_10[l,:])/m_edge_10[l,:]\n",
    "    perc_diff_M10.append(pd_10)\n",
    "\n",
    "perc_diff_arr_M0 = np.array(perc_diff_M0)\n",
    "perc_diff_arr_M1 = np.array(perc_diff_M1)\n",
    "perc_diff_arr_M10 = np.array(perc_diff_M10)\n",
    "#perc_diff_w0wa_arr = np.array(perc_diff_w0wa)\n",
    "\n",
    "for m in range(60):\n",
    "    mpd_0 = np.mean(perc_diff_arr_M0[:,m])\n",
    "    mean_perc_diff_M0.append(mpd_0)\n",
    "for n in range(80):\n",
    "    mpd_1 = np.mean(perc_diff_arr_M1[:,n])\n",
    "    mean_perc_diff_M1.append(mpd_1)\n",
    "    mpd_10 = np.mean(perc_diff_arr_M10[:,n])\n",
    "    mean_perc_diff_M10.append(mpd_10)"
   ]
  },
  {
   "cell_type": "code",
   "execution_count": null,
   "metadata": {},
   "outputs": [],
   "source": [
    "#plt.scatter(rad_0[0,:], mean_perc_diff_M0[0], color = 'c', marker = '.', label = 'M000 mean')\n",
    "print (rad_0[0,0])\n",
    "print (mean_perc_diff_M0[0])"
   ]
  },
  {
   "cell_type": "code",
   "execution_count": null,
   "metadata": {
    "scrolled": true
   },
   "outputs": [],
   "source": [
    "plt.title('Compare Cosmologies')\n",
    "plt.xlabel('Radius (Mpc)')\n",
    "plt.ylabel('Velocity Percent Differences')\n",
    "for (j,k) in zip(range(len(z_0)), range(60)):\n",
    "    mean_edge = np.mean(vesc_M0_EIN[j,:])\n",
    "    plt.plot(rad_0[j,:], (m_edge_0[j,:]-m_edge_0[j,:])/m_edge_0[j,:], color = 'black')\n",
    "    plt.plot(rad_0[j,:], perc_diff_M0[j], color = 'c', alpha = 0.05)\n",
    "    plt.scatter(rad_0[j,:], mean_perc_diff_M0, color = 'c', marker = '.')\n",
    "for (j,k) in zip(range(len(z_1)), range(80)):\n",
    "    mean_edge = np.mean(vesc_M1_EIN[j,:])\n",
    "    #plt.plot(rad_1[j,:], (m_edge_1[j,:]-m_edge_1[j,:])/m_edge_1[j,:], color = 'black')\n",
    "    plt.plot(rad_1[j,:], perc_diff_M1[j], color = 'g', alpha = 0.05)\n",
    "    plt.scatter(rad_1[j,:], mean_perc_diff_M1, color = 'g', marker = '.')\n",
    "for (j,k) in zip(range(len(z_10)), range(80)):\n",
    "    mean_edge = np.mean(vesc_M10_EIN[j,:])\n",
    "    #plt.plot(rad_10[j,:], (m_edge_10[j,:]-m_edge_10[j,:])/m_edge_10[j,:], color = 'black')\n",
    "    plt.plot(rad_10[j,:], perc_diff_M10[j], color = 'r', alpha = 0.05)\n",
    "    plt.scatter(rad_10[j,:], mean_perc_diff_M10, color = 'r', marker = '.')\n",
    "\n",
    "plt.scatter(rad_0[0,0], mean_perc_diff_M0[0], color = 'c', marker = '.', label = 'M000 mean percent difference')\n",
    "plt.scatter(rad_1[0,0], mean_perc_diff_M1[0], color = 'g', marker = '.', label = 'M001 mean percent difference')\n",
    "plt.scatter(rad_10[0,0], mean_perc_diff_M10[0], color = 'r', marker = '.', label = 'M010 mean percent difference')\n",
    "plt.plot(rad_0[0,:], perc_diff_M0[0], color = 'c', alpha = 0.2, label = 'M000 Inferred - Measured')\n",
    "plt.plot(rad_1[0,:], perc_diff_M1[0], color = 'g', alpha = 0.2, label = 'M001 Inferred - Measured')\n",
    "plt.plot(rad_10[0,:], perc_diff_M10[0], color = 'r', alpha = 0.2, label = 'M010 Inferred - Measured')\n",
    "\n",
    "plt.rcParams['figure.figsize'] = [20, 20]\n",
    "plt.xlim(0.5,2.0)\n",
    "plt.ylim(-0.1,0.1)\n",
    "plt.legend(loc = 'upper left', bbox_to_anchor=(1, 1))\n",
    "plt.show()"
   ]
  },
  {
   "cell_type": "markdown",
   "metadata": {},
   "source": [
    "## Compare Redshifts"
   ]
  },
  {
   "cell_type": "code",
   "execution_count": null,
   "metadata": {},
   "outputs": [],
   "source": [
    "front_part_z02 = '/nfs/Christoq1/pvans/MiraTitan/halo/sort/M0z02/halopart/'\n",
    "front_part_z04 = '/nfs/Christoq1/pvans/MiraTitan/halo/sort/M0z04/halopart/'\n",
    "front_part_z06 = '/nfs/Christoq1/pvans/MiraTitan/halo/sort/M0z06/halopart/'\n",
    "front_halo = '/nfs/Christoq1/pvans/MiraTitan/FOF/M000_good/'\n",
    "front_ein_z02 = '/nfs/Christoq1/MiraTitanU_analysis/density_fits/results_pvans_M0/z02/'\n",
    "front_ein_z04 = '/nfs/Christoq1/MiraTitanU_analysis/density_fits/results_pvans_M0/z04/'\n",
    "front_ein_z06 = '/nfs/Christoq1/MiraTitanU_analysis/density_fits/results_pvans_M0/z06/'"
   ]
  },
  {
   "cell_type": "code",
   "execution_count": null,
   "metadata": {},
   "outputs": [],
   "source": [
    "#z=0.2 files\n",
    "rad_file_z02 = fits.open(front_ein_z02 + 'phi_ein/r_vescmax.fits')\n",
    "rad_z02 = rad_file_z02[0].data\n",
    "m_edge_file_z02 = fits.open(front_ein_z02 + 'phi_ein/v_at_vescmax5.fits')\n",
    "m_edge_z02 = m_edge_file_z02[0].data\n",
    "dens_fit_z02 = fits.open(front_ein_z02 + 'dens_ein/dens_fit.fits')\n",
    "dt = [('HaloId',int), ('n',float), ('n_err',float),('rho_0',float),('rho_o_err',float),\n",
    "          ('h',float),('h_err',float),('norm_ein',float)]\n",
    "density_prof_z02 =  np.loadtxt(front_ein_z02 + 'dens_ein/ds_ein_concentrations.dat', dtype=dt,skiprows=0)\n",
    "\n",
    "#z=0.4 files\n",
    "rad_file_z04 = fits.open(front_ein_z04 + 'phi_ein/r_vescmax.fits')\n",
    "rad_z04 = rad_file_z04[0].data\n",
    "m_edge_file_z04 = fits.open(front_ein_z04 + 'phi_ein/v_at_vescmax5.fits')\n",
    "m_edge_z04 = m_edge_file_z04[0].data\n",
    "dens_fit_z04 = fits.open(front_ein_z04 + 'dens_ein/dens_fit.fits')\n",
    "dt = [('HaloId',int), ('n',float), ('n_err',float),('rho_0',float),('rho_o_err',float),\n",
    "          ('h',float),('h_err',float),('norm_ein',float)]\n",
    "density_prof_z04 =  np.loadtxt(front_ein_z04 + 'dens_ein/ds_ein_concentrations.dat', dtype=dt,skiprows=0)\n",
    "\n",
    "#z=0.6 files\n",
    "rad_file_z06 = fits.open(front_ein_z06 + 'phi_ein/r_vescmax.fits')\n",
    "rad_z06 = rad_file_z06[0].data\n",
    "m_edge_file_z06 = fits.open(front_ein_z06 + 'phi_ein/v_at_vescmax5.fits')\n",
    "m_edge_z06 = m_edge_file_z06[0].data\n",
    "dens_fit_z06 = fits.open(front_ein_z06 + 'dens_ein/dens_fit.fits')\n",
    "dt = [('HaloId',int), ('n',float), ('n_err',float),('rho_0',float),('rho_o_err',float),\n",
    "          ('h',float),('h_err',float),('norm_ein',float)]\n",
    "density_prof_z06 =  np.loadtxt(front_ein_z06 + 'dens_ein/ds_ein_concentrations.dat', dtype=dt,skiprows=0)"
   ]
  },
  {
   "cell_type": "code",
   "execution_count": null,
   "metadata": {},
   "outputs": [],
   "source": [
    "print ('z=0.2 len', len(rad_z02))\n",
    "print ('z=0.4 len', len(rad_z04))\n",
    "print ('z=0.6 len', len(rad_z06))"
   ]
  },
  {
   "cell_type": "code",
   "execution_count": null,
   "metadata": {},
   "outputs": [],
   "source": [
    "dt = [('HaloId', np.float64),('m200crit',np.float64),('px',float),('py',float),('pz',float),('vx',float),('vy',float),('vz',float)]\n",
    "filename_z02 =  front_halo + 'z02_good.txt'\n",
    "cluster_list_z02 =  np.loadtxt(filename_z02, dtype=dt,skiprows=0)\n",
    "filename_z04 =  front_halo + 'z04_good.txt'\n",
    "cluster_list_z04 =  np.loadtxt(filename_z04, dtype=dt,skiprows=0)\n",
    "filename_z06 =  front_halo + 'z06_good.txt'\n",
    "cluster_list_z06 =  np.loadtxt(filename_z06, dtype=dt,skiprows=0)"
   ]
  },
  {
   "cell_type": "code",
   "execution_count": null,
   "metadata": {},
   "outputs": [],
   "source": [
    "print (len(cluster_list_z02['m200crit']))"
   ]
  },
  {
   "cell_type": "code",
   "execution_count": null,
   "metadata": {},
   "outputs": [],
   "source": [
    "cosmo_name = 'FlatLambdaCDM'\n",
    "cosmo = FlatLambdaCDM(H0=71,Om0=0.2314)\n",
    "cosmo_params = cosmology(cosmo)"
   ]
  },
  {
   "cell_type": "code",
   "execution_count": null,
   "metadata": {},
   "outputs": [],
   "source": [
    "z = 0.212304\n",
    "h_0 = 0.71\n",
    "mass = cluster_list_z02['m200crit']\n",
    "hmass = mass/h_0\n",
    "#print (hmass)\n",
    "M200 = hmass*u.solMass\n",
    "rho_crit = cosmo.critical_density(z)\n",
    "rho_crit = rho_crit.to(u.solMass / u.Mpc**3)\n",
    "print ('Astropys critical density: ', rho_crit)\n",
    "print ('Internal critical density: ',rho_crit_z(z,cosmo_params,'Flatw0waCDM'))\n",
    "R200crit =  (3*M200/(4*np.pi*200.* rho_crit))**(1./3.)\n",
    "radius_array = np.linspace(0.3,2.0,100).round(3) #specify radius array for profiles. used in v_esc(r) funcs below.\n",
    "theta_array = radius_array /cosmo.angular_diameter_distance(z)\n",
    "R200crit =  (3*M200/(4*np.pi*200.* rho_crit))**(1./3.)\n",
    "#print ('Spherical R200 for a given M200: ', R200crit)\n",
    "G_newton = astroc.G.to( u.Mpc *  u.km**2 / u.s**2 / u.solMass).value #Mpc km2/s^2 kg\n",
    "#print ('Gravity (Mpc km2/s^2 kg), mass, cosmology: ', G_newton, M200, cosmo_params, cosmo.name)\n",
    "#print ('q = ', q_z_function(z, cosmo_params,cosmo.name))\n",
    "#print ('r_eq = ', r_eq(0.2,M200_orig,cosmo_params, cosmo.name))"
   ]
  },
  {
   "cell_type": "code",
   "execution_count": null,
   "metadata": {},
   "outputs": [],
   "source": [
    "z = np.array((0.212304))\n",
    "z = np.repeat(z,(126))\n",
    "num_clus = len(z)\n",
    "M200_orig = np.repeat(hmass,len(z))\n",
    "M200_use = np.repeat(hmass,(1))\n",
    "R200 =  ((3*M200)/(4*np.pi*200.* rho_crit))**(1./3.)\n",
    "N = np.repeat(1000000,len(z))\n",
    "rho_0_list = density_prof_z02['rho_0']\n",
    "h_list = density_prof_z02['h']\n",
    "n_list = density_prof_z02['n']\n",
    "rho_0 = np.repeat(rho_0_list, (1))\n",
    "h = np.repeat(h_list, (1))\n",
    "n = np.repeat(n_list, (1))\n",
    "radius_array = rad_z02 #specify radius array for profiles. used in v_esc(r) funcs below.\n",
    "radial_bins = 80\n",
    "xdata = np.zeros((len(z),radial_bins))\n",
    "for i in range(len(z)):\n",
    "    #print (radius_array[i,:])\n",
    "    xdata[i,:] = radius_array[i,:] /D_A(z[i], cosmo_params, cosmo.name).value\n",
    "    #print (xdata[i,:])\n",
    "r_02_EIN,vesc_02_EIN = v_esc_einasto(xdata,z,rho_0,h,n,N,cosmo_params, cosmo_name,num_clus)\n",
    "r_02_NFW,vesc_02_NFW = v_esc_NFW_M200(xdata,z,M200_use,N,cosmo_params, cosmo_name, num_clus)"
   ]
  },
  {
   "cell_type": "code",
   "execution_count": null,
   "metadata": {},
   "outputs": [],
   "source": []
  },
  {
   "cell_type": "code",
   "execution_count": null,
   "metadata": {},
   "outputs": [],
   "source": []
  },
  {
   "cell_type": "markdown",
   "metadata": {},
   "source": [
    "### Do More Comparisons!\n",
    "\n",
    "Read in halo and particle files. All of this comes directly from the Dark Skies Mass Estimation Notebook"
   ]
  },
  {
   "cell_type": "code",
   "execution_count": null,
   "metadata": {},
   "outputs": [],
   "source": [
    "cosmo_name = 'Flatw0waCDM'\n",
    "cosmo = Flatw0waCDM(H0=61.67, Om0=0.3362, w0 = -0.7, wa = 0.6722, name = cosmo_name)\n",
    "cosmo_params = cosmology(cosmo)\n",
    "#cosmo_name = 'FlatLambdaCDM'\n",
    "#cosmo1 = FlatLambdaCDM(H0=61.67, Om0=0.3362, name = cosmo_name)\n",
    "#cosmo_params = cosmology(cosmo1)"
   ]
  },
  {
   "cell_type": "code",
   "execution_count": null,
   "metadata": {},
   "outputs": [],
   "source": [
    "z = 0.001\n",
    "resolution = 1.05e10\n",
    "a_halo = 1.0/(1+z)\n",
    "Halo_v = [cluster_list['vx'][0],cluster_list['vy'][0],cluster_list['vz'][0]]\n",
    "Halo_p = [cluster_list['px'][0]*a_halo,cluster_list['py'][0]*a_halo,cluster_list['pz'][0]*a_halo] #Note: this is the position in the Guo snapshot. These are zero for particle fits (I.e., do not use with particles)\n",
    "txt = 'Halo ID: ', cluster_list['HaloId'][0]\n",
    "print(txt)\n",
    "txt = 'Halo px,py,pz = ',Halo_p\n",
    "print(txt)\n",
    "txt = 'Halo vx,vy,vz = ', Halo_v\n",
    "print(txt)"
   ]
  },
  {
   "cell_type": "code",
   "execution_count": null,
   "metadata": {},
   "outputs": [],
   "source": [
    "ppx = particles['pos_x']*a_halo # convert to physical coords\n",
    "ppy = particles['pos_y']*a_halo\n",
    "ppz = particles['pos_z']*a_halo\n",
    "print(len(ppx))\n",
    "ppx = ppx - Halo_p[0]\n",
    "ppy = ppy - Halo_p[1]\n",
    "ppz = ppz - Halo_p[2]"
   ]
  },
  {
   "cell_type": "code",
   "execution_count": null,
   "metadata": {},
   "outputs": [],
   "source": [
    "fig, ax = plt.subplots(nrows=1, ncols=2, figsize=(12, 6))\n",
    "ax[0].plot(ppx,ppy,'.',ms=0.05)\n",
    "ax[1].plot(ppy,ppz,'.',ms=0.05)"
   ]
  },
  {
   "cell_type": "code",
   "execution_count": null,
   "metadata": {},
   "outputs": [],
   "source": [
    "ppx = ppx/h_0\n",
    "ppy = ppy/h_0\n",
    "ppz = ppz/h_0"
   ]
  },
  {
   "cell_type": "code",
   "execution_count": null,
   "metadata": {},
   "outputs": [],
   "source": [
    "fig, ax = plt.subplots(nrows=1, ncols=2, figsize=(12, 6))\n",
    "ax[0].plot(ppx,ppy,'.',ms=0.05)\n",
    "ax[1].plot(ppy,ppz,'.',ms=0.05)"
   ]
  },
  {
   "cell_type": "code",
   "execution_count": null,
   "metadata": {},
   "outputs": [],
   "source": [
    "rpart = np.sqrt(ppx**2 + ppy**2 + ppz**2)\n",
    "dens_radius_bookends = np.linspace(0,5,100)\n",
    "density = []\n",
    "cumul_density = []\n",
    "dens_radius = []\n",
    "print (resolution)\n",
    "for i in range(99):\n",
    "    #print (i)\n",
    "    dens_radius = np.append(dens_radius, (dens_radius_bookends[i+1] + dens_radius_bookends[i])/2.0)\n",
    "    volume = (4./3.)*np.pi*(dens_radius_bookends[i+1]**3.0 - dens_radius_bookends[i]**3.0 )\n",
    "    count = len(np.where((rpart < dens_radius_bookends[i+1]))[0]) - len(np.where((rpart < dens_radius_bookends[i]))[0])\n",
    "    #print ('count=',count)\n",
    "    density = np.append(density,(count*resolution)/volume)\n",
    "    #print('density=',density)\n",
    "    count_cu = len(np.where((rpart < dens_radius_bookends[i+1]))[0])\n",
    "    #print (count_cu)\n",
    "    volume = 4./3.*np.pi*(dens_radius_bookends[i+1]**3.0)\n",
    "    cumul_density = np.append(cumul_density, count_cu*resolution/volume)\n",
    "    #print('cumulalitive density=', cumul_density)"
   ]
  },
  {
   "cell_type": "code",
   "execution_count": null,
   "metadata": {},
   "outputs": [],
   "source": [
    "fig, ax = plt.subplots(nrows=1, ncols=1, figsize=(8,6))\n",
    "ax.plot(dens_radius, rho_einasto(dens_radius,density_prof['rho_0'][0],density_prof['h'][0],density_prof['n'][0]),'+',color='r',ms=10,label='Einasto')\n",
    "ax.plot(dens_radius, density, label='data')\n",
    "rho_crit = cosmo.critical_density(z)\n",
    "rho_crit = rho_crit.to(u.solMass / u.Mpc**3)\n",
    "print (200*rho_crit.value)\n",
    "r200 = dens_radius[np.where(cumul_density < 200*rho_crit.value)[0][0]]\n",
    "print(r200)\n",
    "ax.set_yscale('log')\n",
    "ax.set_title('Particle Density')\n",
    "#ax.set_xlim(0,2*r200)\n",
    "ax.legend()\n",
    "ax.axvline(r200)\n",
    "plt.show()\n",
    "w = np.where(rpart < r200)[0]\n",
    "mass200 = len(w)*resolution\n",
    "text = 'Our inferred DM log10(M200_crit) = ', np.log10(mass200)\n",
    "print(text)\n",
    "text = 'MT reported log10(m200crit) = ', np.log10(cluster_list['m200crit'][0]/h_0)\n",
    "print(text)"
   ]
  },
  {
   "cell_type": "markdown",
   "metadata": {},
   "source": [
    "Used cumulative denisty as opposed to density used in DS example. Fits are probably closer once all halos are used. Only using one halo for now"
   ]
  },
  {
   "cell_type": "code",
   "execution_count": null,
   "metadata": {},
   "outputs": [],
   "source": [
    "len_r = len(dens_radius)\n",
    "len_r_interp = 9999\n",
    "rho_crit = cosmo.critical_density(z)\n",
    "rho_crit = rho_crit.to(u.solMass / u.Mpc**3)\n",
    "r_denfit = np.linspace(np.min(dens_radius),np.max(dens_radius),len_r).round(3) #specify radius array for profiles. used in v_esc(r) funcs below.\n",
    "r_interp = np.linspace(np.min(dens_radius)+0.001,np.max(dens_radius)-0.001,len_r_interp).round(3) #specify radius array for profiles. used in v_esc(r) funcs below.    \n",
    "M200_fitted = []\n",
    "R200_fitted = []\n",
    "rho_r = []\n",
    "for j in range(len_r):\n",
    "            rho_r = np.append(rho_r,4*np.pi*integrate.quad(rho_einasto_int,0,r_denfit[j],args=(density_prof['rho_0'][0],density_prof['h'][0],density_prof['n'][0]))[0]/(4/3.*np.pi*(r_denfit[j]**3.0)))\n",
    "log10_rho_r_func = interp1d(dens_radius, np.log10(rho_r), kind='quadratic')\n",
    "log10_rho_r_interp = log10_rho_r_func(r_interp)\n",
    "w = np.where(log10_rho_r_interp < np.log10(200*rho_crit.value))[0]\n",
    "if (len(w) >0):\n",
    "        R200_fitted = np.append(R200_fitted,r_interp[w[0]])\n",
    "        M200_fitted = np.append(M200_fitted, 4*np.pi*integrate.quad(rho_einasto_int,0,r_interp[w[0]],args=(density_prof['rho_0'][0],density_prof['h'][0],density_prof['n'][0]))[0])\n",
    "text = 'The Einasto inferred DM log10(M200) = ', np.log10(M200_fitted[0])\n",
    "print(text)\n",
    "text = 'The MT log10(m200crit) = ', np.log10(cluster_list['m200crit'][0]/h_0)\n",
    "print(text)"
   ]
  },
  {
   "cell_type": "markdown",
   "metadata": {},
   "source": [
    "Confirms Einasto will underestimate the mass"
   ]
  },
  {
   "cell_type": "code",
   "execution_count": null,
   "metadata": {},
   "outputs": [],
   "source": []
  }
 ],
 "metadata": {
  "kernelspec": {
   "display_name": "Python 3",
   "language": "python",
   "name": "python3"
  },
  "language_info": {
   "codemirror_mode": {
    "name": "ipython",
    "version": 3
   },
   "file_extension": ".py",
   "mimetype": "text/x-python",
   "name": "python",
   "nbconvert_exporter": "python",
   "pygments_lexer": "ipython3",
   "version": "3.8.3"
  }
 },
 "nbformat": 4,
 "nbformat_minor": 4
}
